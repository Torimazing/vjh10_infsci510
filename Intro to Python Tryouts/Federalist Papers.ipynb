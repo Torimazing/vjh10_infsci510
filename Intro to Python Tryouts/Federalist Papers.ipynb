{
 "cells": [
  {
   "cell_type": "code",
   "execution_count": 3,
   "id": "4124d444",
   "metadata": {},
   "outputs": [
    {
     "name": "stdout",
     "output_type": "stream",
     "text": [
      "While = 30 Whilst = 18\n"
     ]
    }
   ],
   "source": [
    "source_file = \"fed.txt\"\n",
    "fedpapers = open(source_file, 'r', encoding=\"utf-8\")\n",
    "all_text = fedpapers.read()\n",
    "\n",
    "banned = ['!', ',', '.', '/n', '\"', \"'\", '-', '?', ';', ':']\n",
    "for mark in banned:\n",
    "    all_text = all_text.replace(mark, '')\n",
    "all_text = all_text.lower()\n",
    "\n",
    "wordlist = all_text.split(\" \")\n",
    "\n",
    "fwhile = 0\n",
    "fwhilst = 0\n",
    "\n",
    "for item in wordlist:\n",
    "    if item == \"while\":\n",
    "        fwhile = fwhile + 1\n",
    "    if item == \"whilst\":\n",
    "        fwhilst = fwhilst + 1\n",
    "print(\"While = \" + str(fwhile), \"Whilst = \" + str(fwhilst))\n",
    "    \n"
   ]
  },
  {
   "cell_type": "code",
   "execution_count": null,
   "id": "d9f9d231",
   "metadata": {},
   "outputs": [],
   "source": []
  }
 ],
 "metadata": {
  "kernelspec": {
   "display_name": "Python 3 (ipykernel)",
   "language": "python",
   "name": "python3"
  },
  "language_info": {
   "codemirror_mode": {
    "name": "ipython",
    "version": 3
   },
   "file_extension": ".py",
   "mimetype": "text/x-python",
   "name": "python",
   "nbconvert_exporter": "python",
   "pygments_lexer": "ipython3",
   "version": "3.9.12"
  }
 },
 "nbformat": 4,
 "nbformat_minor": 5
}
