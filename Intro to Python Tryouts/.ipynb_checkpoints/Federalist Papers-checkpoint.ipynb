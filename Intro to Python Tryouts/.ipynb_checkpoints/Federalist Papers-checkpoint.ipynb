{
 "cells": [
  {
   "cell_type": "code",
   "execution_count": 23,
   "id": "f240c6c1",
   "metadata": {},
   "outputs": [],
   "source": [
    "source_file = \"fed.txt\"\n",
    "fedpapers = open(source_file, 'r', encoding=\"utf-8\")\n",
    "all_text = fedpapers.read()\n",
    "\n",
    "wordlist = all_text.split(\" \")\n"
   ]
  },
  {
   "cell_type": "code",
   "execution_count": null,
   "id": "da82057b",
   "metadata": {},
   "outputs": [],
   "source": []
  }
 ],
 "metadata": {
  "kernelspec": {
   "display_name": "Python 3 (ipykernel)",
   "language": "python",
   "name": "python3"
  },
  "language_info": {
   "codemirror_mode": {
    "name": "ipython",
    "version": 3
   },
   "file_extension": ".py",
   "mimetype": "text/x-python",
   "name": "python",
   "nbconvert_exporter": "python",
   "pygments_lexer": "ipython3",
   "version": "3.9.12"
  }
 },
 "nbformat": 4,
 "nbformat_minor": 5
}
