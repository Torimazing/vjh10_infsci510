{
 "cells": [
  {
   "cell_type": "markdown",
   "id": "999c3681",
   "metadata": {},
   "source": [
    "# Assignment 3"
   ]
  },
  {
   "cell_type": "markdown",
   "id": "7750f9c0",
   "metadata": {},
   "source": [
    "## Missing Values"
   ]
  },
  {
   "cell_type": "markdown",
   "id": "9b952354",
   "metadata": {},
   "source": [
    "Check for missing values.  If there are any missing values, deal with them appropriately.\n",
    "Provide written justification explaining why you selected particular methods for dealing with missing values\n"
   ]
  },
  {
   "cell_type": "code",
   "execution_count": 1,
   "id": "d32940dc",
   "metadata": {},
   "outputs": [],
   "source": [
    "import pandas as pd\n",
    "import numpy as np\n"
   ]
  },
  {
   "cell_type": "code",
   "execution_count": 2,
   "id": "3cb765c2",
   "metadata": {},
   "outputs": [],
   "source": [
    "ld = pd.read_csv(\"loan_data.csv\")\n",
    "#ld.head()\n",
    "#ld.tail()"
   ]
  },
  {
   "cell_type": "code",
   "execution_count": 3,
   "id": "fd859768",
   "metadata": {},
   "outputs": [
    {
     "data": {
      "text/plain": [
       "Loan_ID               0\n",
       "Gender               13\n",
       "Married               3\n",
       "Dependents           15\n",
       "Education             0\n",
       "Self_Employed        32\n",
       "ApplicantIncome       0\n",
       "CoapplicantIncome     0\n",
       "LoanAmount           22\n",
       "Loan_Amount_Term     14\n",
       "Credit_History       50\n",
       "Property_Area         0\n",
       "Loan_Status           0\n",
       "dtype: int64"
      ]
     },
     "execution_count": 3,
     "metadata": {},
     "output_type": "execute_result"
    }
   ],
   "source": [
    "ld.isnull().sum()"
   ]
  },
  {
   "cell_type": "markdown",
   "id": "8af62692",
   "metadata": {},
   "source": [
    "There are missing data inputs in: Gender, Married, Dependents, Self_Employed, LoanAmount, Loan_Amount_Term, and Credit_History."
   ]
  },
  {
   "cell_type": "code",
   "execution_count": 4,
   "id": "55c4195c",
   "metadata": {},
   "outputs": [
    {
     "data": {
      "text/html": [
       "<div>\n",
       "<style scoped>\n",
       "    .dataframe tbody tr th:only-of-type {\n",
       "        vertical-align: middle;\n",
       "    }\n",
       "\n",
       "    .dataframe tbody tr th {\n",
       "        vertical-align: top;\n",
       "    }\n",
       "\n",
       "    .dataframe thead th {\n",
       "        text-align: right;\n",
       "    }\n",
       "</style>\n",
       "<table border=\"1\" class=\"dataframe\">\n",
       "  <thead>\n",
       "    <tr style=\"text-align: right;\">\n",
       "      <th></th>\n",
       "      <th>Gender</th>\n",
       "    </tr>\n",
       "    <tr>\n",
       "      <th>Gender</th>\n",
       "      <th></th>\n",
       "    </tr>\n",
       "  </thead>\n",
       "  <tbody>\n",
       "    <tr>\n",
       "      <th>Female</th>\n",
       "      <td>112</td>\n",
       "    </tr>\n",
       "    <tr>\n",
       "      <th>Male</th>\n",
       "      <td>489</td>\n",
       "    </tr>\n",
       "  </tbody>\n",
       "</table>\n",
       "</div>"
      ],
      "text/plain": [
       "        Gender\n",
       "Gender        \n",
       "Female     112\n",
       "Male       489"
      ]
     },
     "execution_count": 4,
     "metadata": {},
     "output_type": "execute_result"
    }
   ],
   "source": [
    "ld.groupby([\"Gender\"]).agg({'Gender':'count'})"
   ]
  },
  {
   "cell_type": "markdown",
   "id": "752613f2",
   "metadata": {},
   "source": [
    "This data seems to be stemming from an internal system documenting loan applicants' status and information.  This would suggest that any missing data is not reflective of a deliberate issue, or missing at random. \n",
    "\n",
    "Since Gender is a non-numeric, discrete variable and it has a high preference towards men in this dataset, it is appropriate to fill in the missing values with male and feel relativley safe on that assumption."
   ]
  },
  {
   "cell_type": "code",
   "execution_count": 5,
   "id": "708cc7d5",
   "metadata": {},
   "outputs": [
    {
     "data": {
      "text/html": [
       "<div>\n",
       "<style scoped>\n",
       "    .dataframe tbody tr th:only-of-type {\n",
       "        vertical-align: middle;\n",
       "    }\n",
       "\n",
       "    .dataframe tbody tr th {\n",
       "        vertical-align: top;\n",
       "    }\n",
       "\n",
       "    .dataframe thead th {\n",
       "        text-align: right;\n",
       "    }\n",
       "</style>\n",
       "<table border=\"1\" class=\"dataframe\">\n",
       "  <thead>\n",
       "    <tr style=\"text-align: right;\">\n",
       "      <th></th>\n",
       "      <th>Gender</th>\n",
       "    </tr>\n",
       "    <tr>\n",
       "      <th>Gender</th>\n",
       "      <th></th>\n",
       "    </tr>\n",
       "  </thead>\n",
       "  <tbody>\n",
       "    <tr>\n",
       "      <th>Female</th>\n",
       "      <td>112</td>\n",
       "    </tr>\n",
       "    <tr>\n",
       "      <th>Male</th>\n",
       "      <td>502</td>\n",
       "    </tr>\n",
       "  </tbody>\n",
       "</table>\n",
       "</div>"
      ],
      "text/plain": [
       "        Gender\n",
       "Gender        \n",
       "Female     112\n",
       "Male       502"
      ]
     },
     "execution_count": 5,
     "metadata": {},
     "output_type": "execute_result"
    }
   ],
   "source": [
    "mod_ld = ld\n",
    "mod_ld[\"Gender\"].fillna(\"Male\", inplace=True)\n",
    "mod_ld.groupby([\"Gender\"]).agg({'Gender':'count'})"
   ]
  },
  {
   "cell_type": "markdown",
   "id": "c550be71",
   "metadata": {},
   "source": [
    "The number of missing data entries related to marital status is quite low, 3, and therefore it is most appropriate to delete these entries to eliminate the missing variables."
   ]
  },
  {
   "cell_type": "code",
   "execution_count": 6,
   "id": "489381c3",
   "metadata": {},
   "outputs": [
    {
     "data": {
      "text/plain": [
       "<AxesSubplot:>"
      ]
     },
     "execution_count": 6,
     "metadata": {},
     "output_type": "execute_result"
    },
    {
     "data": {
      "image/png": "[encoded data removed]",
      "text/plain": [
       "<Figure size 432x288 with 1 Axes>"
      ]
     },
     "metadata": {
      "needs_background": "light"
     },
     "output_type": "display_data"
    }
   ],
   "source": [
    "ld['Dependents'].hist()"
   ]
  },
  {
   "cell_type": "markdown",
   "id": "6c9e2220",
   "metadata": {},
   "source": [
    "Dependents data is not normally distributed, nor is it predictable in order to impute missing values.  Since the number of missing values remains low, we shall drop these rows from our dataset."
   ]
  },
  {
   "cell_type": "code",
   "execution_count": 7,
   "id": "c1c4146d",
   "metadata": {},
   "outputs": [
    {
     "data": {
      "text/html": [
       "<div>\n",
       "<style scoped>\n",
       "    .dataframe tbody tr th:only-of-type {\n",
       "        vertical-align: middle;\n",
       "    }\n",
       "\n",
       "    .dataframe tbody tr th {\n",
       "        vertical-align: top;\n",
       "    }\n",
       "\n",
       "    .dataframe thead th {\n",
       "        text-align: right;\n",
       "    }\n",
       "</style>\n",
       "<table border=\"1\" class=\"dataframe\">\n",
       "  <thead>\n",
       "    <tr style=\"text-align: right;\">\n",
       "      <th></th>\n",
       "      <th>Self_Employed</th>\n",
       "    </tr>\n",
       "    <tr>\n",
       "      <th>Self_Employed</th>\n",
       "      <th></th>\n",
       "    </tr>\n",
       "  </thead>\n",
       "  <tbody>\n",
       "    <tr>\n",
       "      <th>No</th>\n",
       "      <td>500</td>\n",
       "    </tr>\n",
       "    <tr>\n",
       "      <th>Yes</th>\n",
       "      <td>82</td>\n",
       "    </tr>\n",
       "  </tbody>\n",
       "</table>\n",
       "</div>"
      ],
      "text/plain": [
       "               Self_Employed\n",
       "Self_Employed               \n",
       "No                       500\n",
       "Yes                       82"
      ]
     },
     "execution_count": 7,
     "metadata": {},
     "output_type": "execute_result"
    }
   ],
   "source": [
    "ld.groupby([\"Self_Employed\"]).agg({'Self_Employed':'count'})"
   ]
  },
  {
   "cell_type": "markdown",
   "id": "87d7de8c",
   "metadata": {},
   "source": [
    "Since employment status is a non-numeric, discrete variable and it has a high preference towards No in this dataset, it is appropriate to fill in the missing values with no and feel relativley safe on that assumption."
   ]
  },
  {
   "cell_type": "code",
   "execution_count": 8,
   "id": "f846d845",
   "metadata": {
    "scrolled": true
   },
   "outputs": [
    {
     "data": {
      "text/html": [
       "<div>\n",
       "<style scoped>\n",
       "    .dataframe tbody tr th:only-of-type {\n",
       "        vertical-align: middle;\n",
       "    }\n",
       "\n",
       "    .dataframe tbody tr th {\n",
       "        vertical-align: top;\n",
       "    }\n",
       "\n",
       "    .dataframe thead th {\n",
       "        text-align: right;\n",
       "    }\n",
       "</style>\n",
       "<table border=\"1\" class=\"dataframe\">\n",
       "  <thead>\n",
       "    <tr style=\"text-align: right;\">\n",
       "      <th></th>\n",
       "      <th>Self_Employed</th>\n",
       "    </tr>\n",
       "    <tr>\n",
       "      <th>Self_Employed</th>\n",
       "      <th></th>\n",
       "    </tr>\n",
       "  </thead>\n",
       "  <tbody>\n",
       "    <tr>\n",
       "      <th>No</th>\n",
       "      <td>532</td>\n",
       "    </tr>\n",
       "    <tr>\n",
       "      <th>Yes</th>\n",
       "      <td>82</td>\n",
       "    </tr>\n",
       "  </tbody>\n",
       "</table>\n",
       "</div>"
      ],
      "text/plain": [
       "               Self_Employed\n",
       "Self_Employed               \n",
       "No                       532\n",
       "Yes                       82"
      ]
     },
     "execution_count": 8,
     "metadata": {},
     "output_type": "execute_result"
    }
   ],
   "source": [
    "mod_ld[\"Self_Employed\"].fillna(\"No\", inplace=True)\n",
    "mod_ld.groupby([\"Self_Employed\"]).agg({'Self_Employed':'count'})"
   ]
  },
  {
   "cell_type": "markdown",
   "id": "51df5e67",
   "metadata": {},
   "source": [
    "LoanAmount, Credit_History, and Loan_Amount_Term are very important to what we are trying to assess, so the data that is missing shall be cut from the dataframe."
   ]
  },
  {
   "cell_type": "markdown",
   "id": "43f9c6cc",
   "metadata": {},
   "source": [
    "The goal of the model is to predict whether or not someone will get a loan, so not providing the loan amount information is a potential source of incorrect data if I fill it in with an average. Since the number of blank rows is relatively low, it is acceptable to drop these rows in favor of only using accurate data."
   ]
  },
  {
   "cell_type": "code",
   "execution_count": 9,
   "id": "bd683cd2",
   "metadata": {},
   "outputs": [
    {
     "data": {
      "text/plain": [
       "<AxesSubplot:>"
      ]
     },
     "execution_count": 9,
     "metadata": {},
     "output_type": "execute_result"
    },
    {
     "data": {
      "image/png": "[encoded data removed]",
      "text/plain": [
       "<Figure size 432x288 with 1 Axes>"
      ]
     },
     "metadata": {
      "needs_background": "light"
     },
     "output_type": "display_data"
    }
   ],
   "source": [
    "ld['Credit_History'].hist()"
   ]
  },
  {
   "cell_type": "code",
   "execution_count": 10,
   "id": "fd0cd71a",
   "metadata": {},
   "outputs": [
    {
     "data": {
      "text/html": [
       "<div>\n",
       "<style scoped>\n",
       "    .dataframe tbody tr th:only-of-type {\n",
       "        vertical-align: middle;\n",
       "    }\n",
       "\n",
       "    .dataframe tbody tr th {\n",
       "        vertical-align: top;\n",
       "    }\n",
       "\n",
       "    .dataframe thead th {\n",
       "        text-align: right;\n",
       "    }\n",
       "</style>\n",
       "<table border=\"1\" class=\"dataframe\">\n",
       "  <thead>\n",
       "    <tr style=\"text-align: right;\">\n",
       "      <th></th>\n",
       "      <th>Credit_History</th>\n",
       "    </tr>\n",
       "    <tr>\n",
       "      <th>Credit_History</th>\n",
       "      <th></th>\n",
       "    </tr>\n",
       "  </thead>\n",
       "  <tbody>\n",
       "    <tr>\n",
       "      <th>0.0</th>\n",
       "      <td>89</td>\n",
       "    </tr>\n",
       "    <tr>\n",
       "      <th>1.0</th>\n",
       "      <td>475</td>\n",
       "    </tr>\n",
       "  </tbody>\n",
       "</table>\n",
       "</div>"
      ],
      "text/plain": [
       "                Credit_History\n",
       "Credit_History                \n",
       "0.0                         89\n",
       "1.0                        475"
      ]
     },
     "execution_count": 10,
     "metadata": {},
     "output_type": "execute_result"
    }
   ],
   "source": [
    "ld.groupby([\"Credit_History\"]).agg({'Credit_History':'count'})"
   ]
  },
  {
   "cell_type": "code",
   "execution_count": 11,
   "id": "6ecf83f1",
   "metadata": {},
   "outputs": [],
   "source": [
    "mod_ld[\"Credit_History\"].fillna(\"1\", inplace=True)"
   ]
  },
  {
   "cell_type": "code",
   "execution_count": 12,
   "id": "21b8d3df",
   "metadata": {},
   "outputs": [
    {
     "data": {
      "text/plain": [
       "<AxesSubplot:>"
      ]
     },
     "execution_count": 12,
     "metadata": {},
     "output_type": "execute_result"
    },
    {
     "data": {
      "image/png": "[encoded data removed]",
      "text/plain": [
       "<Figure size 432x288 with 1 Axes>"
      ]
     },
     "metadata": {
      "needs_background": "light"
     },
     "output_type": "display_data"
    }
   ],
   "source": [
    "ld['Loan_Amount_Term'].hist(bins=10)"
   ]
  },
  {
   "cell_type": "code",
   "execution_count": 13,
   "id": "3673a22f",
   "metadata": {},
   "outputs": [
    {
     "data": {
      "text/html": [
       "<div>\n",
       "<style scoped>\n",
       "    .dataframe tbody tr th:only-of-type {\n",
       "        vertical-align: middle;\n",
       "    }\n",
       "\n",
       "    .dataframe tbody tr th {\n",
       "        vertical-align: top;\n",
       "    }\n",
       "\n",
       "    .dataframe thead th {\n",
       "        text-align: right;\n",
       "    }\n",
       "</style>\n",
       "<table border=\"1\" class=\"dataframe\">\n",
       "  <thead>\n",
       "    <tr style=\"text-align: right;\">\n",
       "      <th></th>\n",
       "      <th>Loan_Amount_Term</th>\n",
       "    </tr>\n",
       "    <tr>\n",
       "      <th>Loan_Amount_Term</th>\n",
       "      <th></th>\n",
       "    </tr>\n",
       "  </thead>\n",
       "  <tbody>\n",
       "    <tr>\n",
       "      <th>12.0</th>\n",
       "      <td>1</td>\n",
       "    </tr>\n",
       "    <tr>\n",
       "      <th>36.0</th>\n",
       "      <td>2</td>\n",
       "    </tr>\n",
       "    <tr>\n",
       "      <th>60.0</th>\n",
       "      <td>2</td>\n",
       "    </tr>\n",
       "    <tr>\n",
       "      <th>84.0</th>\n",
       "      <td>4</td>\n",
       "    </tr>\n",
       "    <tr>\n",
       "      <th>120.0</th>\n",
       "      <td>3</td>\n",
       "    </tr>\n",
       "    <tr>\n",
       "      <th>180.0</th>\n",
       "      <td>44</td>\n",
       "    </tr>\n",
       "    <tr>\n",
       "      <th>240.0</th>\n",
       "      <td>4</td>\n",
       "    </tr>\n",
       "    <tr>\n",
       "      <th>300.0</th>\n",
       "      <td>13</td>\n",
       "    </tr>\n",
       "    <tr>\n",
       "      <th>360.0</th>\n",
       "      <td>512</td>\n",
       "    </tr>\n",
       "    <tr>\n",
       "      <th>480.0</th>\n",
       "      <td>15</td>\n",
       "    </tr>\n",
       "  </tbody>\n",
       "</table>\n",
       "</div>"
      ],
      "text/plain": [
       "                  Loan_Amount_Term\n",
       "Loan_Amount_Term                  \n",
       "12.0                             1\n",
       "36.0                             2\n",
       "60.0                             2\n",
       "84.0                             4\n",
       "120.0                            3\n",
       "180.0                           44\n",
       "240.0                            4\n",
       "300.0                           13\n",
       "360.0                          512\n",
       "480.0                           15"
      ]
     },
     "execution_count": 13,
     "metadata": {},
     "output_type": "execute_result"
    }
   ],
   "source": [
    "ld.groupby([\"Loan_Amount_Term\"]).agg({'Loan_Amount_Term':'count'})"
   ]
  },
  {
   "cell_type": "code",
   "execution_count": 14,
   "id": "d032b13e",
   "metadata": {},
   "outputs": [],
   "source": [
    "mod_ld[\"Loan_Amount_Term\"].fillna(360, inplace=True)"
   ]
  },
  {
   "cell_type": "code",
   "execution_count": 15,
   "id": "dd6de4e6",
   "metadata": {},
   "outputs": [
    {
     "name": "stdout",
     "output_type": "stream",
     "text": [
      "Missing values before dropping rows: \n",
      "Loan_ID               0\n",
      "Gender                0\n",
      "Married               3\n",
      "Dependents           15\n",
      "Education             0\n",
      "Self_Employed         0\n",
      "ApplicantIncome       0\n",
      "CoapplicantIncome     0\n",
      "LoanAmount           22\n",
      "Loan_Amount_Term      0\n",
      "Credit_History        0\n",
      "Property_Area         0\n",
      "Loan_Status           0\n",
      "dtype: int64\n",
      "(614, 13)\n",
      "Missing values after dropping rows: \n",
      "Loan_ID              0\n",
      "Gender               0\n",
      "Married              0\n",
      "Dependents           0\n",
      "Education            0\n",
      "Self_Employed        0\n",
      "ApplicantIncome      0\n",
      "CoapplicantIncome    0\n",
      "LoanAmount           0\n",
      "Loan_Amount_Term     0\n",
      "Credit_History       0\n",
      "Property_Area        0\n",
      "Loan_Status          0\n",
      "dtype: int64\n",
      "(579, 13)\n"
     ]
    }
   ],
   "source": [
    "print(\"Missing values before dropping rows: \")\n",
    "print(ld.isnull().sum())\n",
    "print(ld.shape)\n",
    "\n",
    "mod_ld = mod_ld.dropna()\n",
    "\n",
    "print(\"Missing values after dropping rows: \")\n",
    "print(mod_ld.isnull().sum())\n",
    "print(mod_ld.shape)"
   ]
  },
  {
   "cell_type": "markdown",
   "id": "174035ea",
   "metadata": {},
   "source": [
    "## Outliers"
   ]
  },
  {
   "cell_type": "markdown",
   "id": "b367b173",
   "metadata": {},
   "source": [
    "Check for outliers.  Do we keep them or do we drop them?  Why? \n",
    "Provide written justification explaining why you decided to keep or drop outliers."
   ]
  },
  {
   "cell_type": "code",
   "execution_count": 16,
   "id": "9ac79294",
   "metadata": {},
   "outputs": [
    {
     "data": {
      "text/html": [
       "<div>\n",
       "<style scoped>\n",
       "    .dataframe tbody tr th:only-of-type {\n",
       "        vertical-align: middle;\n",
       "    }\n",
       "\n",
       "    .dataframe tbody tr th {\n",
       "        vertical-align: top;\n",
       "    }\n",
       "\n",
       "    .dataframe thead th {\n",
       "        text-align: right;\n",
       "    }\n",
       "</style>\n",
       "<table border=\"1\" class=\"dataframe\">\n",
       "  <thead>\n",
       "    <tr style=\"text-align: right;\">\n",
       "      <th></th>\n",
       "      <th>ApplicantIncome</th>\n",
       "      <th>CoapplicantIncome</th>\n",
       "      <th>LoanAmount</th>\n",
       "      <th>Loan_Amount_Term</th>\n",
       "    </tr>\n",
       "  </thead>\n",
       "  <tbody>\n",
       "    <tr>\n",
       "      <th>count</th>\n",
       "      <td>579.000000</td>\n",
       "      <td>579.000000</td>\n",
       "      <td>579.000000</td>\n",
       "      <td>579.000000</td>\n",
       "    </tr>\n",
       "    <tr>\n",
       "      <th>mean</th>\n",
       "      <td>5432.177893</td>\n",
       "      <td>1651.635440</td>\n",
       "      <td>146.816926</td>\n",
       "      <td>342.072539</td>\n",
       "    </tr>\n",
       "    <tr>\n",
       "      <th>std</th>\n",
       "      <td>6228.236981</td>\n",
       "      <td>2992.599435</td>\n",
       "      <td>86.343049</td>\n",
       "      <td>64.546233</td>\n",
       "    </tr>\n",
       "    <tr>\n",
       "      <th>min</th>\n",
       "      <td>150.000000</td>\n",
       "      <td>0.000000</td>\n",
       "      <td>9.000000</td>\n",
       "      <td>12.000000</td>\n",
       "    </tr>\n",
       "    <tr>\n",
       "      <th>25%</th>\n",
       "      <td>2879.000000</td>\n",
       "      <td>0.000000</td>\n",
       "      <td>100.000000</td>\n",
       "      <td>360.000000</td>\n",
       "    </tr>\n",
       "    <tr>\n",
       "      <th>50%</th>\n",
       "      <td>3775.000000</td>\n",
       "      <td>1229.000000</td>\n",
       "      <td>128.000000</td>\n",
       "      <td>360.000000</td>\n",
       "    </tr>\n",
       "    <tr>\n",
       "      <th>75%</th>\n",
       "      <td>5816.500000</td>\n",
       "      <td>2318.000000</td>\n",
       "      <td>169.000000</td>\n",
       "      <td>360.000000</td>\n",
       "    </tr>\n",
       "    <tr>\n",
       "      <th>max</th>\n",
       "      <td>81000.000000</td>\n",
       "      <td>41667.000000</td>\n",
       "      <td>700.000000</td>\n",
       "      <td>480.000000</td>\n",
       "    </tr>\n",
       "  </tbody>\n",
       "</table>\n",
       "</div>"
      ],
      "text/plain": [
       "       ApplicantIncome  CoapplicantIncome  LoanAmount  Loan_Amount_Term\n",
       "count       579.000000         579.000000  579.000000        579.000000\n",
       "mean       5432.177893        1651.635440  146.816926        342.072539\n",
       "std        6228.236981        2992.599435   86.343049         64.546233\n",
       "min         150.000000           0.000000    9.000000         12.000000\n",
       "25%        2879.000000           0.000000  100.000000        360.000000\n",
       "50%        3775.000000        1229.000000  128.000000        360.000000\n",
       "75%        5816.500000        2318.000000  169.000000        360.000000\n",
       "max       81000.000000       41667.000000  700.000000        480.000000"
      ]
     },
     "execution_count": 16,
     "metadata": {},
     "output_type": "execute_result"
    }
   ],
   "source": [
    "mod_ld.describe()"
   ]
  },
  {
   "cell_type": "code",
   "execution_count": 17,
   "id": "6ae6583d",
   "metadata": {},
   "outputs": [
    {
     "data": {
      "text/plain": [
       "Loan_ID               object\n",
       "Gender                object\n",
       "Married               object\n",
       "Dependents            object\n",
       "Education             object\n",
       "Self_Employed         object\n",
       "ApplicantIncome        int64\n",
       "CoapplicantIncome    float64\n",
       "LoanAmount           float64\n",
       "Loan_Amount_Term     float64\n",
       "Credit_History        object\n",
       "Property_Area         object\n",
       "Loan_Status           object\n",
       "dtype: object"
      ]
     },
     "execution_count": 17,
     "metadata": {},
     "output_type": "execute_result"
    }
   ],
   "source": [
    "mod_ld.dtypes"
   ]
  },
  {
   "cell_type": "markdown",
   "id": "ce42ad9e",
   "metadata": {},
   "source": [
    "The only data types with a possible outlier are numerical data types.  Our data frame has three columns of this type: Applicnat and Coapplicant Income, and Loan Amount."
   ]
  },
  {
   "cell_type": "markdown",
   "id": "8e4d4e2e",
   "metadata": {},
   "source": [
    "While Dependents may seem to be a numerical data type, it has been categorized into 0, 1, 2, 3+, which makes it impossible to be considered a numerical type, so it will not be processed as a numerical data type."
   ]
  },
  {
   "cell_type": "code",
   "execution_count": 18,
   "id": "2e87c01a",
   "metadata": {},
   "outputs": [
    {
     "data": {
      "text/plain": [
       "<AxesSubplot:>"
      ]
     },
     "execution_count": 18,
     "metadata": {},
     "output_type": "execute_result"
    },
    {
     "data": {
      "image/png": "[encoded data removed]",
      "text/plain": [
       "<Figure size 432x288 with 1 Axes>"
      ]
     },
     "metadata": {
      "needs_background": "light"
     },
     "output_type": "display_data"
    }
   ],
   "source": [
    "mod_ld['Loan_Amount_Term'].plot.box()"
   ]
  },
  {
   "cell_type": "code",
   "execution_count": 19,
   "id": "11d1332e",
   "metadata": {},
   "outputs": [
    {
     "data": {
      "text/plain": [
       "<AxesSubplot:>"
      ]
     },
     "execution_count": 19,
     "metadata": {},
     "output_type": "execute_result"
    },
    {
     "data": {
      "image/png": "[encoded data removed]",
      "text/plain": [
       "<Figure size 432x288 with 1 Axes>"
      ]
     },
     "metadata": {
      "needs_background": "light"
     },
     "output_type": "display_data"
    }
   ],
   "source": [
    "mod_ld['ApplicantIncome'].plot.box()"
   ]
  },
  {
   "cell_type": "code",
   "execution_count": 20,
   "id": "9ece9fb8",
   "metadata": {},
   "outputs": [
    {
     "data": {
      "text/plain": [
       "<AxesSubplot:>"
      ]
     },
     "execution_count": 20,
     "metadata": {},
     "output_type": "execute_result"
    },
    {
     "data": {
      "image/png": "[encoded data removed]",
      "text/plain": [
       "<Figure size 432x288 with 1 Axes>"
      ]
     },
     "metadata": {
      "needs_background": "light"
     },
     "output_type": "display_data"
    }
   ],
   "source": [
    "mod_ld['CoapplicantIncome'].plot.box()"
   ]
  },
  {
   "cell_type": "code",
   "execution_count": 21,
   "id": "4316dae1",
   "metadata": {},
   "outputs": [
    {
     "data": {
      "text/plain": [
       "<AxesSubplot:>"
      ]
     },
     "execution_count": 21,
     "metadata": {},
     "output_type": "execute_result"
    },
    {
     "data": {
      "image/png": "[encoded data removed]",
      "text/plain": [
       "<Figure size 432x288 with 1 Axes>"
      ]
     },
     "metadata": {
      "needs_background": "light"
     },
     "output_type": "display_data"
    }
   ],
   "source": [
    "mod_ld['LoanAmount'].plot.box()"
   ]
  },
  {
   "cell_type": "markdown",
   "id": "d30a452c",
   "metadata": {},
   "source": [
    "it appears that every column analysed has realistic outliers, so I will look at the histogram of each column."
   ]
  },
  {
   "cell_type": "code",
   "execution_count": 22,
   "id": "2abd9c8b",
   "metadata": {},
   "outputs": [
    {
     "data": {
      "text/plain": [
       "<Figure size 432x288 with 0 Axes>"
      ]
     },
     "metadata": {},
     "output_type": "display_data"
    },
    {
     "data": {
      "image/png": "[encoded data removed]",
      "text/plain": [
       "<Figure size 1440x864 with 1 Axes>"
      ]
     },
     "metadata": {
      "needs_background": "light"
     },
     "output_type": "display_data"
    },
    {
     "data": {
      "text/plain": [
       "<Figure size 432x288 with 0 Axes>"
      ]
     },
     "metadata": {},
     "output_type": "display_data"
    },
    {
     "data": {
      "image/png": "[encoded data removed]",
      "text/plain": [
       "<Figure size 1440x864 with 1 Axes>"
      ]
     },
     "metadata": {
      "needs_background": "light"
     },
     "output_type": "display_data"
    },
    {
     "data": {
      "text/plain": [
       "<Figure size 432x288 with 0 Axes>"
      ]
     },
     "metadata": {},
     "output_type": "display_data"
    },
    {
     "data": {
      "image/png": "[encoded data removed]",
      "text/plain": [
       "<Figure size 1440x864 with 1 Axes>"
      ]
     },
     "metadata": {
      "needs_background": "light"
     },
     "output_type": "display_data"
    },
    {
     "data": {
      "text/plain": [
       "<Figure size 432x288 with 0 Axes>"
      ]
     },
     "metadata": {},
     "output_type": "display_data"
    },
    {
     "data": {
      "image/png": "[encoded data removed]",
      "text/plain": [
       "<Figure size 1440x864 with 1 Axes>"
      ]
     },
     "metadata": {
      "needs_background": "light"
     },
     "output_type": "display_data"
    }
   ],
   "source": [
    "import matplotlib.pyplot as plt\n",
    "\n",
    "for col in mod_ld[['LoanAmount', 'CoapplicantIncome', 'ApplicantIncome', 'Loan_Amount_Term']].columns:\n",
    "    \n",
    "    plt.figure()\n",
    "    plt.figure(figsize=(20, 12))\n",
    "    mod_ld[col].hist(bins=150)\n",
    "    plt.show()"
   ]
  },
  {
   "cell_type": "markdown",
   "id": "cae3fe0c",
   "metadata": {},
   "source": [
    "Loan Amount, Applicant Income, and Coapplicant Income are all skewed to the left, with outliers only appearing on the high end of the data, this is consistent with the character of left skewed data, and therefore the outliers described are realistic and consistent with the relationship we will be analysing.  "
   ]
  },
  {
   "cell_type": "markdown",
   "id": "418773a4",
   "metadata": {},
   "source": [
    "Loan Amount Term has outliers on both high and low values of its data set, but these values are often repeated, therefore less likely to be mistakes in data input, and also these valuesare possible, so we will analyse them as real data values."
   ]
  },
  {
   "cell_type": "code",
   "execution_count": 23,
   "id": "9b8c0dc3",
   "metadata": {},
   "outputs": [
    {
     "data": {
      "text/html": [
       "<div>\n",
       "<style scoped>\n",
       "    .dataframe tbody tr th:only-of-type {\n",
       "        vertical-align: middle;\n",
       "    }\n",
       "\n",
       "    .dataframe tbody tr th {\n",
       "        vertical-align: top;\n",
       "    }\n",
       "\n",
       "    .dataframe thead th {\n",
       "        text-align: right;\n",
       "    }\n",
       "</style>\n",
       "<table border=\"1\" class=\"dataframe\">\n",
       "  <thead>\n",
       "    <tr style=\"text-align: right;\">\n",
       "      <th></th>\n",
       "      <th>ApplicantIncome</th>\n",
       "      <th>CoapplicantIncome</th>\n",
       "      <th>LoanAmount</th>\n",
       "      <th>Loan_Amount_Term</th>\n",
       "    </tr>\n",
       "  </thead>\n",
       "  <tbody>\n",
       "    <tr>\n",
       "      <th>count</th>\n",
       "      <td>579.000000</td>\n",
       "      <td>579.000000</td>\n",
       "      <td>579.000000</td>\n",
       "      <td>579.000000</td>\n",
       "    </tr>\n",
       "    <tr>\n",
       "      <th>mean</th>\n",
       "      <td>5432.177893</td>\n",
       "      <td>1651.635440</td>\n",
       "      <td>146.816926</td>\n",
       "      <td>342.072539</td>\n",
       "    </tr>\n",
       "    <tr>\n",
       "      <th>std</th>\n",
       "      <td>6228.236981</td>\n",
       "      <td>2992.599435</td>\n",
       "      <td>86.343049</td>\n",
       "      <td>64.546233</td>\n",
       "    </tr>\n",
       "    <tr>\n",
       "      <th>min</th>\n",
       "      <td>150.000000</td>\n",
       "      <td>0.000000</td>\n",
       "      <td>9.000000</td>\n",
       "      <td>12.000000</td>\n",
       "    </tr>\n",
       "    <tr>\n",
       "      <th>25%</th>\n",
       "      <td>2879.000000</td>\n",
       "      <td>0.000000</td>\n",
       "      <td>100.000000</td>\n",
       "      <td>360.000000</td>\n",
       "    </tr>\n",
       "    <tr>\n",
       "      <th>50%</th>\n",
       "      <td>3775.000000</td>\n",
       "      <td>1229.000000</td>\n",
       "      <td>128.000000</td>\n",
       "      <td>360.000000</td>\n",
       "    </tr>\n",
       "    <tr>\n",
       "      <th>75%</th>\n",
       "      <td>5816.500000</td>\n",
       "      <td>2318.000000</td>\n",
       "      <td>169.000000</td>\n",
       "      <td>360.000000</td>\n",
       "    </tr>\n",
       "    <tr>\n",
       "      <th>max</th>\n",
       "      <td>81000.000000</td>\n",
       "      <td>41667.000000</td>\n",
       "      <td>700.000000</td>\n",
       "      <td>480.000000</td>\n",
       "    </tr>\n",
       "  </tbody>\n",
       "</table>\n",
       "</div>"
      ],
      "text/plain": [
       "       ApplicantIncome  CoapplicantIncome  LoanAmount  Loan_Amount_Term\n",
       "count       579.000000         579.000000  579.000000        579.000000\n",
       "mean       5432.177893        1651.635440  146.816926        342.072539\n",
       "std        6228.236981        2992.599435   86.343049         64.546233\n",
       "min         150.000000           0.000000    9.000000         12.000000\n",
       "25%        2879.000000           0.000000  100.000000        360.000000\n",
       "50%        3775.000000        1229.000000  128.000000        360.000000\n",
       "75%        5816.500000        2318.000000  169.000000        360.000000\n",
       "max       81000.000000       41667.000000  700.000000        480.000000"
      ]
     },
     "execution_count": 23,
     "metadata": {},
     "output_type": "execute_result"
    }
   ],
   "source": [
    "mod_ld.describe()"
   ]
  },
  {
   "cell_type": "markdown",
   "id": "0c3b00d1",
   "metadata": {},
   "source": [
    "## Discretizing"
   ]
  },
  {
   "cell_type": "markdown",
   "id": "bcc9b9e5",
   "metadata": {},
   "source": [
    "Discretize the following columns and explain why you chose particular discrete categories/ranges for the values\n",
    "\n",
    "ApplicantIncome\n",
    "\n",
    "CoapplicantIncome\n",
    "\n",
    "LoanAmount\n",
    "\n",
    "Loan_Amount_Term\n"
   ]
  },
  {
   "cell_type": "markdown",
   "id": "8a27c0cc",
   "metadata": {},
   "source": [
    "https://www.javatpoint.com/discretization-in-data-mining"
   ]
  },
  {
   "cell_type": "code",
   "execution_count": 24,
   "id": "72939125",
   "metadata": {},
   "outputs": [
    {
     "data": {
      "text/html": [
       "<div>\n",
       "<style scoped>\n",
       "    .dataframe tbody tr th:only-of-type {\n",
       "        vertical-align: middle;\n",
       "    }\n",
       "\n",
       "    .dataframe tbody tr th {\n",
       "        vertical-align: top;\n",
       "    }\n",
       "\n",
       "    .dataframe thead th {\n",
       "        text-align: right;\n",
       "    }\n",
       "</style>\n",
       "<table border=\"1\" class=\"dataframe\">\n",
       "  <thead>\n",
       "    <tr style=\"text-align: right;\">\n",
       "      <th></th>\n",
       "      <th>Loan_Amount_Term</th>\n",
       "    </tr>\n",
       "    <tr>\n",
       "      <th>Loan_Amount_Term</th>\n",
       "      <th></th>\n",
       "    </tr>\n",
       "  </thead>\n",
       "  <tbody>\n",
       "    <tr>\n",
       "      <th>12.0</th>\n",
       "      <td>1</td>\n",
       "    </tr>\n",
       "    <tr>\n",
       "      <th>36.0</th>\n",
       "      <td>2</td>\n",
       "    </tr>\n",
       "    <tr>\n",
       "      <th>60.0</th>\n",
       "      <td>2</td>\n",
       "    </tr>\n",
       "    <tr>\n",
       "      <th>84.0</th>\n",
       "      <td>4</td>\n",
       "    </tr>\n",
       "    <tr>\n",
       "      <th>120.0</th>\n",
       "      <td>3</td>\n",
       "    </tr>\n",
       "    <tr>\n",
       "      <th>180.0</th>\n",
       "      <td>41</td>\n",
       "    </tr>\n",
       "    <tr>\n",
       "      <th>240.0</th>\n",
       "      <td>3</td>\n",
       "    </tr>\n",
       "    <tr>\n",
       "      <th>300.0</th>\n",
       "      <td>13</td>\n",
       "    </tr>\n",
       "    <tr>\n",
       "      <th>360.0</th>\n",
       "      <td>497</td>\n",
       "    </tr>\n",
       "    <tr>\n",
       "      <th>480.0</th>\n",
       "      <td>13</td>\n",
       "    </tr>\n",
       "  </tbody>\n",
       "</table>\n",
       "</div>"
      ],
      "text/plain": [
       "                  Loan_Amount_Term\n",
       "Loan_Amount_Term                  \n",
       "12.0                             1\n",
       "36.0                             2\n",
       "60.0                             2\n",
       "84.0                             4\n",
       "120.0                            3\n",
       "180.0                           41\n",
       "240.0                            3\n",
       "300.0                           13\n",
       "360.0                          497\n",
       "480.0                           13"
      ]
     },
     "execution_count": 24,
     "metadata": {},
     "output_type": "execute_result"
    }
   ],
   "source": [
    "mod_ld.groupby([\"Loan_Amount_Term\"]).agg({'Loan_Amount_Term':'count'})"
   ]
  },
  {
   "cell_type": "markdown",
   "id": "30fe9941",
   "metadata": {},
   "source": [
    "The category Loan Amount Term has no continuity in its variables, rather already pretty discrete values that often repeat.  Since this is the case I elected to make very small ranges for any values within, as variability seemed to be intentional and uncommon.  I decided to use ranges because I am uncertain of any formal process loan providers would use and therefore cannot assume there is not the possibility that a loan term might be different than the numbers I have already been given.  "
   ]
  },
  {
   "cell_type": "code",
   "execution_count": 25,
   "id": "d98a80fa",
   "metadata": {},
   "outputs": [
    {
     "name": "stderr",
     "output_type": "stream",
     "text": [
      "C:\\Users\\victo\\AppData\\Local\\Temp\\ipykernel_10532\\1494890681.py:1: SettingWithCopyWarning: \n",
      "A value is trying to be set on a copy of a slice from a DataFrame.\n",
      "Try using .loc[row_indexer,col_indexer] = value instead\n",
      "\n",
      "See the caveats in the documentation: https://pandas.pydata.org/pandas-docs/stable/user_guide/indexing.html#returning-a-view-versus-a-copy\n",
      "  mod_ld['Loan_Amount_Term_Binned']=pd.cut(x=mod_ld[\"Loan_Amount_Term\"], bins=[0,60,120,180, 240, 300, 360, 420, 480])\n"
     ]
    },
    {
     "data": {
      "text/html": [
       "<div>\n",
       "<style scoped>\n",
       "    .dataframe tbody tr th:only-of-type {\n",
       "        vertical-align: middle;\n",
       "    }\n",
       "\n",
       "    .dataframe tbody tr th {\n",
       "        vertical-align: top;\n",
       "    }\n",
       "\n",
       "    .dataframe thead th {\n",
       "        text-align: right;\n",
       "    }\n",
       "</style>\n",
       "<table border=\"1\" class=\"dataframe\">\n",
       "  <thead>\n",
       "    <tr style=\"text-align: right;\">\n",
       "      <th></th>\n",
       "      <th>Loan_ID</th>\n",
       "      <th>Gender</th>\n",
       "      <th>Married</th>\n",
       "      <th>Dependents</th>\n",
       "      <th>Education</th>\n",
       "      <th>Self_Employed</th>\n",
       "      <th>ApplicantIncome</th>\n",
       "      <th>CoapplicantIncome</th>\n",
       "      <th>LoanAmount</th>\n",
       "      <th>Loan_Amount_Term</th>\n",
       "      <th>Credit_History</th>\n",
       "      <th>Property_Area</th>\n",
       "      <th>Loan_Status</th>\n",
       "      <th>Loan_Amount_Term_Binned</th>\n",
       "    </tr>\n",
       "  </thead>\n",
       "  <tbody>\n",
       "    <tr>\n",
       "      <th>1</th>\n",
       "      <td>LP001003</td>\n",
       "      <td>Male</td>\n",
       "      <td>Yes</td>\n",
       "      <td>1</td>\n",
       "      <td>Graduate</td>\n",
       "      <td>No</td>\n",
       "      <td>4583</td>\n",
       "      <td>1508.0</td>\n",
       "      <td>128.0</td>\n",
       "      <td>360.0</td>\n",
       "      <td>1.0</td>\n",
       "      <td>Rural</td>\n",
       "      <td>N</td>\n",
       "      <td>(300, 360]</td>\n",
       "    </tr>\n",
       "    <tr>\n",
       "      <th>2</th>\n",
       "      <td>LP001005</td>\n",
       "      <td>Male</td>\n",
       "      <td>Yes</td>\n",
       "      <td>0</td>\n",
       "      <td>Graduate</td>\n",
       "      <td>Yes</td>\n",
       "      <td>3000</td>\n",
       "      <td>0.0</td>\n",
       "      <td>66.0</td>\n",
       "      <td>360.0</td>\n",
       "      <td>1.0</td>\n",
       "      <td>Urban</td>\n",
       "      <td>Y</td>\n",
       "      <td>(300, 360]</td>\n",
       "    </tr>\n",
       "    <tr>\n",
       "      <th>3</th>\n",
       "      <td>LP001006</td>\n",
       "      <td>Male</td>\n",
       "      <td>Yes</td>\n",
       "      <td>0</td>\n",
       "      <td>Not Graduate</td>\n",
       "      <td>No</td>\n",
       "      <td>2583</td>\n",
       "      <td>2358.0</td>\n",
       "      <td>120.0</td>\n",
       "      <td>360.0</td>\n",
       "      <td>1.0</td>\n",
       "      <td>Urban</td>\n",
       "      <td>Y</td>\n",
       "      <td>(300, 360]</td>\n",
       "    </tr>\n",
       "    <tr>\n",
       "      <th>4</th>\n",
       "      <td>LP001008</td>\n",
       "      <td>Male</td>\n",
       "      <td>No</td>\n",
       "      <td>0</td>\n",
       "      <td>Graduate</td>\n",
       "      <td>No</td>\n",
       "      <td>6000</td>\n",
       "      <td>0.0</td>\n",
       "      <td>141.0</td>\n",
       "      <td>360.0</td>\n",
       "      <td>1.0</td>\n",
       "      <td>Urban</td>\n",
       "      <td>Y</td>\n",
       "      <td>(300, 360]</td>\n",
       "    </tr>\n",
       "    <tr>\n",
       "      <th>5</th>\n",
       "      <td>LP001011</td>\n",
       "      <td>Male</td>\n",
       "      <td>Yes</td>\n",
       "      <td>2</td>\n",
       "      <td>Graduate</td>\n",
       "      <td>Yes</td>\n",
       "      <td>5417</td>\n",
       "      <td>4196.0</td>\n",
       "      <td>267.0</td>\n",
       "      <td>360.0</td>\n",
       "      <td>1.0</td>\n",
       "      <td>Urban</td>\n",
       "      <td>Y</td>\n",
       "      <td>(300, 360]</td>\n",
       "    </tr>\n",
       "  </tbody>\n",
       "</table>\n",
       "</div>"
      ],
      "text/plain": [
       "    Loan_ID Gender Married Dependents     Education Self_Employed  \\\n",
       "1  LP001003   Male     Yes          1      Graduate            No   \n",
       "2  LP001005   Male     Yes          0      Graduate           Yes   \n",
       "3  LP001006   Male     Yes          0  Not Graduate            No   \n",
       "4  LP001008   Male      No          0      Graduate            No   \n",
       "5  LP001011   Male     Yes          2      Graduate           Yes   \n",
       "\n",
       "   ApplicantIncome  CoapplicantIncome  LoanAmount  Loan_Amount_Term  \\\n",
       "1             4583             1508.0       128.0             360.0   \n",
       "2             3000                0.0        66.0             360.0   \n",
       "3             2583             2358.0       120.0             360.0   \n",
       "4             6000                0.0       141.0             360.0   \n",
       "5             5417             4196.0       267.0             360.0   \n",
       "\n",
       "  Credit_History Property_Area Loan_Status Loan_Amount_Term_Binned  \n",
       "1            1.0         Rural           N              (300, 360]  \n",
       "2            1.0         Urban           Y              (300, 360]  \n",
       "3            1.0         Urban           Y              (300, 360]  \n",
       "4            1.0         Urban           Y              (300, 360]  \n",
       "5            1.0         Urban           Y              (300, 360]  "
      ]
     },
     "execution_count": 25,
     "metadata": {},
     "output_type": "execute_result"
    }
   ],
   "source": [
    "mod_ld['Loan_Amount_Term_Binned']=pd.cut(x=mod_ld[\"Loan_Amount_Term\"], bins=[0,60,120,180, 240, 300, 360, 420, 480])\n",
    "mod_ld.head()"
   ]
  },
  {
   "cell_type": "markdown",
   "id": "8e62fcd3",
   "metadata": {},
   "source": [
    "The category Loan Amount is continuous, and highly variable, though it has a left skew.  When discretizing the data, I chose to break the data into ranges in order to reflect the continuity of the data.  I also binned the data without worrying about equal sizes of categories, instead of qcut. I did this since I consider the intensity of money asked for to be important in whether or not a loan is accepted, and therefore a unequal bin will not dampen the effects of high values by grouping them with lower values.\n",
    "\n",
    "When determining bin sizes, I chose to make 14 bins, so that each bin contains a loan amount range of around 50."
   ]
  },
  {
   "cell_type": "code",
   "execution_count": 26,
   "id": "6ca7612c",
   "metadata": {},
   "outputs": [
    {
     "name": "stderr",
     "output_type": "stream",
     "text": [
      "C:\\Users\\victo\\AppData\\Local\\Temp\\ipykernel_10532\\1850866557.py:1: SettingWithCopyWarning: \n",
      "A value is trying to be set on a copy of a slice from a DataFrame.\n",
      "Try using .loc[row_indexer,col_indexer] = value instead\n",
      "\n",
      "See the caveats in the documentation: https://pandas.pydata.org/pandas-docs/stable/user_guide/indexing.html#returning-a-view-versus-a-copy\n",
      "  mod_ld['Loan_Amount_Binned']=pd.cut(x=mod_ld[\"LoanAmount\"], bins=14)\n"
     ]
    },
    {
     "data": {
      "text/html": [
       "<div>\n",
       "<style scoped>\n",
       "    .dataframe tbody tr th:only-of-type {\n",
       "        vertical-align: middle;\n",
       "    }\n",
       "\n",
       "    .dataframe tbody tr th {\n",
       "        vertical-align: top;\n",
       "    }\n",
       "\n",
       "    .dataframe thead th {\n",
       "        text-align: right;\n",
       "    }\n",
       "</style>\n",
       "<table border=\"1\" class=\"dataframe\">\n",
       "  <thead>\n",
       "    <tr style=\"text-align: right;\">\n",
       "      <th></th>\n",
       "      <th>Loan_ID</th>\n",
       "      <th>Gender</th>\n",
       "      <th>Married</th>\n",
       "      <th>Dependents</th>\n",
       "      <th>Education</th>\n",
       "      <th>Self_Employed</th>\n",
       "      <th>ApplicantIncome</th>\n",
       "      <th>CoapplicantIncome</th>\n",
       "      <th>LoanAmount</th>\n",
       "      <th>Loan_Amount_Term</th>\n",
       "      <th>Credit_History</th>\n",
       "      <th>Property_Area</th>\n",
       "      <th>Loan_Status</th>\n",
       "      <th>Loan_Amount_Term_Binned</th>\n",
       "      <th>Loan_Amount_Binned</th>\n",
       "    </tr>\n",
       "  </thead>\n",
       "  <tbody>\n",
       "    <tr>\n",
       "      <th>1</th>\n",
       "      <td>LP001003</td>\n",
       "      <td>Male</td>\n",
       "      <td>Yes</td>\n",
       "      <td>1</td>\n",
       "      <td>Graduate</td>\n",
       "      <td>No</td>\n",
       "      <td>4583</td>\n",
       "      <td>1508.0</td>\n",
       "      <td>128.0</td>\n",
       "      <td>360.0</td>\n",
       "      <td>1.0</td>\n",
       "      <td>Rural</td>\n",
       "      <td>N</td>\n",
       "      <td>(300, 360]</td>\n",
       "      <td>(107.714, 157.071]</td>\n",
       "    </tr>\n",
       "    <tr>\n",
       "      <th>2</th>\n",
       "      <td>LP001005</td>\n",
       "      <td>Male</td>\n",
       "      <td>Yes</td>\n",
       "      <td>0</td>\n",
       "      <td>Graduate</td>\n",
       "      <td>Yes</td>\n",
       "      <td>3000</td>\n",
       "      <td>0.0</td>\n",
       "      <td>66.0</td>\n",
       "      <td>360.0</td>\n",
       "      <td>1.0</td>\n",
       "      <td>Urban</td>\n",
       "      <td>Y</td>\n",
       "      <td>(300, 360]</td>\n",
       "      <td>(58.357, 107.714]</td>\n",
       "    </tr>\n",
       "    <tr>\n",
       "      <th>3</th>\n",
       "      <td>LP001006</td>\n",
       "      <td>Male</td>\n",
       "      <td>Yes</td>\n",
       "      <td>0</td>\n",
       "      <td>Not Graduate</td>\n",
       "      <td>No</td>\n",
       "      <td>2583</td>\n",
       "      <td>2358.0</td>\n",
       "      <td>120.0</td>\n",
       "      <td>360.0</td>\n",
       "      <td>1.0</td>\n",
       "      <td>Urban</td>\n",
       "      <td>Y</td>\n",
       "      <td>(300, 360]</td>\n",
       "      <td>(107.714, 157.071]</td>\n",
       "    </tr>\n",
       "    <tr>\n",
       "      <th>4</th>\n",
       "      <td>LP001008</td>\n",
       "      <td>Male</td>\n",
       "      <td>No</td>\n",
       "      <td>0</td>\n",
       "      <td>Graduate</td>\n",
       "      <td>No</td>\n",
       "      <td>6000</td>\n",
       "      <td>0.0</td>\n",
       "      <td>141.0</td>\n",
       "      <td>360.0</td>\n",
       "      <td>1.0</td>\n",
       "      <td>Urban</td>\n",
       "      <td>Y</td>\n",
       "      <td>(300, 360]</td>\n",
       "      <td>(107.714, 157.071]</td>\n",
       "    </tr>\n",
       "    <tr>\n",
       "      <th>5</th>\n",
       "      <td>LP001011</td>\n",
       "      <td>Male</td>\n",
       "      <td>Yes</td>\n",
       "      <td>2</td>\n",
       "      <td>Graduate</td>\n",
       "      <td>Yes</td>\n",
       "      <td>5417</td>\n",
       "      <td>4196.0</td>\n",
       "      <td>267.0</td>\n",
       "      <td>360.0</td>\n",
       "      <td>1.0</td>\n",
       "      <td>Urban</td>\n",
       "      <td>Y</td>\n",
       "      <td>(300, 360]</td>\n",
       "      <td>(255.786, 305.143]</td>\n",
       "    </tr>\n",
       "  </tbody>\n",
       "</table>\n",
       "</div>"
      ],
      "text/plain": [
       "    Loan_ID Gender Married Dependents     Education Self_Employed  \\\n",
       "1  LP001003   Male     Yes          1      Graduate            No   \n",
       "2  LP001005   Male     Yes          0      Graduate           Yes   \n",
       "3  LP001006   Male     Yes          0  Not Graduate            No   \n",
       "4  LP001008   Male      No          0      Graduate            No   \n",
       "5  LP001011   Male     Yes          2      Graduate           Yes   \n",
       "\n",
       "   ApplicantIncome  CoapplicantIncome  LoanAmount  Loan_Amount_Term  \\\n",
       "1             4583             1508.0       128.0             360.0   \n",
       "2             3000                0.0        66.0             360.0   \n",
       "3             2583             2358.0       120.0             360.0   \n",
       "4             6000                0.0       141.0             360.0   \n",
       "5             5417             4196.0       267.0             360.0   \n",
       "\n",
       "  Credit_History Property_Area Loan_Status Loan_Amount_Term_Binned  \\\n",
       "1            1.0         Rural           N              (300, 360]   \n",
       "2            1.0         Urban           Y              (300, 360]   \n",
       "3            1.0         Urban           Y              (300, 360]   \n",
       "4            1.0         Urban           Y              (300, 360]   \n",
       "5            1.0         Urban           Y              (300, 360]   \n",
       "\n",
       "   Loan_Amount_Binned  \n",
       "1  (107.714, 157.071]  \n",
       "2   (58.357, 107.714]  \n",
       "3  (107.714, 157.071]  \n",
       "4  (107.714, 157.071]  \n",
       "5  (255.786, 305.143]  "
      ]
     },
     "execution_count": 26,
     "metadata": {},
     "output_type": "execute_result"
    }
   ],
   "source": [
    "mod_ld['Loan_Amount_Binned']=pd.cut(x=mod_ld[\"LoanAmount\"], bins=14)\n",
    "mod_ld.head()"
   ]
  },
  {
   "cell_type": "markdown",
   "id": "30e34ad9",
   "metadata": {},
   "source": [
    "Applicant Income and Coapplicant Income are also continuous with a left skew, but have much more consistiencies with certain data amounts, and since salary is relative to others', it makes sense to group data into deciles to represent what the salary means relative to others."
   ]
  },
  {
   "cell_type": "code",
   "execution_count": 27,
   "id": "171630a8",
   "metadata": {},
   "outputs": [
    {
     "name": "stderr",
     "output_type": "stream",
     "text": [
      "C:\\Users\\victo\\AppData\\Local\\Temp\\ipykernel_10532\\410773115.py:1: SettingWithCopyWarning: \n",
      "A value is trying to be set on a copy of a slice from a DataFrame.\n",
      "Try using .loc[row_indexer,col_indexer] = value instead\n",
      "\n",
      "See the caveats in the documentation: https://pandas.pydata.org/pandas-docs/stable/user_guide/indexing.html#returning-a-view-versus-a-copy\n",
      "  mod_ld['ApplicantIncomeBinned']=pd.qcut(x=mod_ld[\"ApplicantIncome\"],  q=10, precision=0)\n"
     ]
    },
    {
     "data": {
      "text/html": [
       "<div>\n",
       "<style scoped>\n",
       "    .dataframe tbody tr th:only-of-type {\n",
       "        vertical-align: middle;\n",
       "    }\n",
       "\n",
       "    .dataframe tbody tr th {\n",
       "        vertical-align: top;\n",
       "    }\n",
       "\n",
       "    .dataframe thead th {\n",
       "        text-align: right;\n",
       "    }\n",
       "</style>\n",
       "<table border=\"1\" class=\"dataframe\">\n",
       "  <thead>\n",
       "    <tr style=\"text-align: right;\">\n",
       "      <th></th>\n",
       "      <th>ApplicantIncomeBinned</th>\n",
       "    </tr>\n",
       "    <tr>\n",
       "      <th>ApplicantIncomeBinned</th>\n",
       "      <th></th>\n",
       "    </tr>\n",
       "  </thead>\n",
       "  <tbody>\n",
       "    <tr>\n",
       "      <th>(149.0, 2214.0]</th>\n",
       "      <td>58</td>\n",
       "    </tr>\n",
       "    <tr>\n",
       "      <th>(2214.0, 2605.0]</th>\n",
       "      <td>58</td>\n",
       "    </tr>\n",
       "    <tr>\n",
       "      <th>(2605.0, 3065.0]</th>\n",
       "      <td>58</td>\n",
       "    </tr>\n",
       "    <tr>\n",
       "      <th>(3065.0, 3401.0]</th>\n",
       "      <td>58</td>\n",
       "    </tr>\n",
       "    <tr>\n",
       "      <th>(3401.0, 3775.0]</th>\n",
       "      <td>58</td>\n",
       "    </tr>\n",
       "    <tr>\n",
       "      <th>(3775.0, 4333.0]</th>\n",
       "      <td>58</td>\n",
       "    </tr>\n",
       "    <tr>\n",
       "      <th>(4333.0, 5189.0]</th>\n",
       "      <td>57</td>\n",
       "    </tr>\n",
       "    <tr>\n",
       "      <th>(5189.0, 6264.0]</th>\n",
       "      <td>58</td>\n",
       "    </tr>\n",
       "    <tr>\n",
       "      <th>(6264.0, 9505.0]</th>\n",
       "      <td>58</td>\n",
       "    </tr>\n",
       "    <tr>\n",
       "      <th>(9505.0, 81000.0]</th>\n",
       "      <td>58</td>\n",
       "    </tr>\n",
       "  </tbody>\n",
       "</table>\n",
       "</div>"
      ],
      "text/plain": [
       "                       ApplicantIncomeBinned\n",
       "ApplicantIncomeBinned                       \n",
       "(149.0, 2214.0]                           58\n",
       "(2214.0, 2605.0]                          58\n",
       "(2605.0, 3065.0]                          58\n",
       "(3065.0, 3401.0]                          58\n",
       "(3401.0, 3775.0]                          58\n",
       "(3775.0, 4333.0]                          58\n",
       "(4333.0, 5189.0]                          57\n",
       "(5189.0, 6264.0]                          58\n",
       "(6264.0, 9505.0]                          58\n",
       "(9505.0, 81000.0]                         58"
      ]
     },
     "execution_count": 27,
     "metadata": {},
     "output_type": "execute_result"
    }
   ],
   "source": [
    "mod_ld['ApplicantIncomeBinned']=pd.qcut(x=mod_ld[\"ApplicantIncome\"],  q=10, precision=0)\n",
    "mod_ld.head()\n",
    "mod_ld.groupby([\"ApplicantIncomeBinned\"]).agg({'ApplicantIncomeBinned':'count'})"
   ]
  },
  {
   "cell_type": "code",
   "execution_count": 28,
   "id": "fed982f3",
   "metadata": {},
   "outputs": [
    {
     "name": "stderr",
     "output_type": "stream",
     "text": [
      "C:\\Users\\victo\\AppData\\Local\\Temp\\ipykernel_10532\\1156608327.py:1: SettingWithCopyWarning: \n",
      "A value is trying to be set on a copy of a slice from a DataFrame.\n",
      "Try using .loc[row_indexer,col_indexer] = value instead\n",
      "\n",
      "See the caveats in the documentation: https://pandas.pydata.org/pandas-docs/stable/user_guide/indexing.html#returning-a-view-versus-a-copy\n",
      "  mod_ld['CoapplicantIncomeBinned']=pd.qcut(x=mod_ld[\"CoapplicantIncome\"],  q=20, precision=0, duplicates = 'drop')\n"
     ]
    },
    {
     "data": {
      "text/html": [
       "<div>\n",
       "<style scoped>\n",
       "    .dataframe tbody tr th:only-of-type {\n",
       "        vertical-align: middle;\n",
       "    }\n",
       "\n",
       "    .dataframe tbody tr th {\n",
       "        vertical-align: top;\n",
       "    }\n",
       "\n",
       "    .dataframe thead th {\n",
       "        text-align: right;\n",
       "    }\n",
       "</style>\n",
       "<table border=\"1\" class=\"dataframe\">\n",
       "  <thead>\n",
       "    <tr style=\"text-align: right;\">\n",
       "      <th></th>\n",
       "      <th>CoapplicantIncomeBinned</th>\n",
       "    </tr>\n",
       "    <tr>\n",
       "      <th>CoapplicantIncomeBinned</th>\n",
       "      <th></th>\n",
       "    </tr>\n",
       "  </thead>\n",
       "  <tbody>\n",
       "    <tr>\n",
       "      <th>(-1.0, 486.0]</th>\n",
       "      <td>261</td>\n",
       "    </tr>\n",
       "    <tr>\n",
       "      <th>(486.0, 1229.0]</th>\n",
       "      <td>29</td>\n",
       "    </tr>\n",
       "    <tr>\n",
       "      <th>(1229.0, 1507.0]</th>\n",
       "      <td>28</td>\n",
       "    </tr>\n",
       "    <tr>\n",
       "      <th>(1507.0, 1716.0]</th>\n",
       "      <td>29</td>\n",
       "    </tr>\n",
       "    <tr>\n",
       "      <th>(1716.0, 1874.0]</th>\n",
       "      <td>29</td>\n",
       "    </tr>\n",
       "    <tr>\n",
       "      <th>(1874.0, 2083.0]</th>\n",
       "      <td>31</td>\n",
       "    </tr>\n",
       "    <tr>\n",
       "      <th>(2083.0, 2318.0]</th>\n",
       "      <td>27</td>\n",
       "    </tr>\n",
       "    <tr>\n",
       "      <th>(2318.0, 2552.0]</th>\n",
       "      <td>29</td>\n",
       "    </tr>\n",
       "    <tr>\n",
       "      <th>(2552.0, 3057.0]</th>\n",
       "      <td>29</td>\n",
       "    </tr>\n",
       "    <tr>\n",
       "      <th>(3057.0, 3815.0]</th>\n",
       "      <td>29</td>\n",
       "    </tr>\n",
       "    <tr>\n",
       "      <th>(3815.0, 5063.0]</th>\n",
       "      <td>29</td>\n",
       "    </tr>\n",
       "    <tr>\n",
       "      <th>(5063.0, 41667.0]</th>\n",
       "      <td>29</td>\n",
       "    </tr>\n",
       "  </tbody>\n",
       "</table>\n",
       "</div>"
      ],
      "text/plain": [
       "                         CoapplicantIncomeBinned\n",
       "CoapplicantIncomeBinned                         \n",
       "(-1.0, 486.0]                                261\n",
       "(486.0, 1229.0]                               29\n",
       "(1229.0, 1507.0]                              28\n",
       "(1507.0, 1716.0]                              29\n",
       "(1716.0, 1874.0]                              29\n",
       "(1874.0, 2083.0]                              31\n",
       "(2083.0, 2318.0]                              27\n",
       "(2318.0, 2552.0]                              29\n",
       "(2552.0, 3057.0]                              29\n",
       "(3057.0, 3815.0]                              29\n",
       "(3815.0, 5063.0]                              29\n",
       "(5063.0, 41667.0]                             29"
      ]
     },
     "execution_count": 28,
     "metadata": {},
     "output_type": "execute_result"
    }
   ],
   "source": [
    "mod_ld['CoapplicantIncomeBinned']=pd.qcut(x=mod_ld[\"CoapplicantIncome\"],  q=20, precision=0, duplicates = 'drop')\n",
    "mod_ld.head()\n",
    "mod_ld.groupby([\"CoapplicantIncomeBinned\"]).agg({'CoapplicantIncomeBinned':'count'})"
   ]
  },
  {
   "cell_type": "markdown",
   "id": "5faafd42",
   "metadata": {},
   "source": [
    "## Determine Predictors"
   ]
  },
  {
   "cell_type": "markdown",
   "id": "8151252b",
   "metadata": {},
   "source": [
    "Think about which features make sense as predictors.  DO NOT use all features as predictors in your model.  \n",
    "Provide a written justification explaining why you selected certain features and excluded others\n"
   ]
  },
  {
   "cell_type": "markdown",
   "id": "68d53c3e",
   "metadata": {},
   "source": [
    "My choosing of features is dependent on both the data I have and my guess as to the strength of correlation each variable may have towards whether or not a loan is accepted.  "
   ]
  },
  {
   "cell_type": "code",
   "execution_count": 29,
   "id": "7503125f",
   "metadata": {},
   "outputs": [
    {
     "data": {
      "text/plain": [
       "<Figure size 432x288 with 0 Axes>"
      ]
     },
     "metadata": {},
     "output_type": "display_data"
    },
    {
     "data": {
      "text/plain": [
       "<Figure size 1440x864 with 0 Axes>"
      ]
     },
     "metadata": {},
     "output_type": "display_data"
    },
    {
     "data": {
      "image/png": "[encoded data removed]",
      "text/plain": [
       "<Figure size 432x288 with 1 Axes>"
      ]
     },
     "metadata": {
      "needs_background": "light"
     },
     "output_type": "display_data"
    },
    {
     "data": {
      "image/png": "[encoded data removed]",
      "text/plain": [
       "<Figure size 432x288 with 1 Axes>"
      ]
     },
     "metadata": {
      "needs_background": "light"
     },
     "output_type": "display_data"
    },
    {
     "data": {
      "text/plain": [
       "<Figure size 432x288 with 0 Axes>"
      ]
     },
     "metadata": {},
     "output_type": "display_data"
    },
    {
     "data": {
      "text/plain": [
       "<Figure size 1440x864 with 0 Axes>"
      ]
     },
     "metadata": {},
     "output_type": "display_data"
    },
    {
     "data": {
      "image/png": "[encoded data removed]",
      "text/plain": [
       "<Figure size 432x288 with 1 Axes>"
      ]
     },
     "metadata": {
      "needs_background": "light"
     },
     "output_type": "display_data"
    },
    {
     "data": {
      "image/png": "[encoded data removed]",
      "text/plain": [
       "<Figure size 432x288 with 1 Axes>"
      ]
     },
     "metadata": {
      "needs_background": "light"
     },
     "output_type": "display_data"
    },
    {
     "data": {
      "text/plain": [
       "<Figure size 432x288 with 0 Axes>"
      ]
     },
     "metadata": {},
     "output_type": "display_data"
    },
    {
     "data": {
      "text/plain": [
       "<Figure size 1440x864 with 0 Axes>"
      ]
     },
     "metadata": {},
     "output_type": "display_data"
    },
    {
     "data": {
      "image/png": "[encoded data removed]",
      "text/plain": [
       "<Figure size 432x288 with 1 Axes>"
      ]
     },
     "metadata": {
      "needs_background": "light"
     },
     "output_type": "display_data"
    },
    {
     "data": {
      "image/png": "[encoded data removed]",
      "text/plain": [
       "<Figure size 432x288 with 1 Axes>"
      ]
     },
     "metadata": {
      "needs_background": "light"
     },
     "output_type": "display_data"
    },
    {
     "data": {
      "text/plain": [
       "<Figure size 432x288 with 0 Axes>"
      ]
     },
     "metadata": {},
     "output_type": "display_data"
    },
    {
     "data": {
      "text/plain": [
       "<Figure size 1440x864 with 0 Axes>"
      ]
     },
     "metadata": {},
     "output_type": "display_data"
    },
    {
     "data": {
      "image/png": "[encoded data removed]",
      "text/plain": [
       "<Figure size 432x288 with 1 Axes>"
      ]
     },
     "metadata": {
      "needs_background": "light"
     },
     "output_type": "display_data"
    },
    {
     "data": {
      "image/png": "[encoded data removed]",
      "text/plain": [
       "<Figure size 432x288 with 1 Axes>"
      ]
     },
     "metadata": {
      "needs_background": "light"
     },
     "output_type": "display_data"
    },
    {
     "data": {
      "text/plain": [
       "<Figure size 432x288 with 0 Axes>"
      ]
     },
     "metadata": {},
     "output_type": "display_data"
    },
    {
     "data": {
      "text/plain": [
       "<Figure size 1440x864 with 0 Axes>"
      ]
     },
     "metadata": {},
     "output_type": "display_data"
    },
    {
     "data": {
      "image/png": "[encoded data removed]",
      "text/plain": [
       "<Figure size 432x288 with 1 Axes>"
      ]
     },
     "metadata": {
      "needs_background": "light"
     },
     "output_type": "display_data"
    },
    {
     "data": {
      "image/png": "[encoded data removed]",
      "text/plain": [
       "<Figure size 432x288 with 1 Axes>"
      ]
     },
     "metadata": {
      "needs_background": "light"
     },
     "output_type": "display_data"
    },
    {
     "data": {
      "text/plain": [
       "<Figure size 432x288 with 0 Axes>"
      ]
     },
     "metadata": {},
     "output_type": "display_data"
    },
    {
     "data": {
      "text/plain": [
       "<Figure size 1440x864 with 0 Axes>"
      ]
     },
     "metadata": {},
     "output_type": "display_data"
    },
    {
     "data": {
      "image/png": "[encoded data removed]",
      "text/plain": [
       "<Figure size 432x288 with 1 Axes>"
      ]
     },
     "metadata": {
      "needs_background": "light"
     },
     "output_type": "display_data"
    },
    {
     "data": {
      "image/png": "[encoded data removed]",
      "text/plain": [
       "<Figure size 432x288 with 1 Axes>"
      ]
     },
     "metadata": {
      "needs_background": "light"
     },
     "output_type": "display_data"
    }
   ],
   "source": [
    "import matplotlib.pyplot as plt\n",
    "from itertools import combinations\n",
    "for item in (list(combinations(mod_ld[['ApplicantIncome', 'CoapplicantIncome', 'LoanAmount', 'Loan_Amount_Term']].columns, 2))):\n",
    "    plt.figure()\n",
    "    plt.figure(figsize=(20, 12))\n",
    "    mod_ld.plot.scatter(x=item[0],y=item[1])\n",
    "    plt.show()\n",
    "    mod_ld.plot.scatter(x=item[1],y=item[0])\n",
    "    plt.show()"
   ]
  },
  {
   "cell_type": "code",
   "execution_count": 30,
   "id": "3b735be1",
   "metadata": {},
   "outputs": [
    {
     "name": "stdout",
     "output_type": "stream",
     "text": [
      "0    0.571034\n",
      "Name: (ApplicantIncome, LoanAmount), dtype: float64\n",
      "0    0.571034\n",
      "Name: (LoanAmount, ApplicantIncome), dtype: float64\n",
      "0    0.189087\n",
      "Name: (CoapplicantIncome, LoanAmount), dtype: float64\n",
      "0    0.189087\n",
      "Name: (LoanAmount, CoapplicantIncome), dtype: float64\n",
      "0    0.115165\n",
      "Name: (ApplicantIncome, CoapplicantIncome), dtype: float64\n",
      "0    0.115165\n",
      "Name: (CoapplicantIncome, ApplicantIncome), dtype: float64\n",
      "0    0.058617\n",
      "Name: (CoapplicantIncome, Loan_Amount_Term), dtype: float64\n",
      "0    0.058617\n",
      "Name: (Loan_Amount_Term, CoapplicantIncome), dtype: float64\n",
      "0    0.048961\n",
      "Name: (ApplicantIncome, Loan_Amount_Term), dtype: float64\n",
      "0    0.048961\n",
      "Name: (Loan_Amount_Term, ApplicantIncome), dtype: float64\n",
      "0    0.036882\n",
      "Name: (LoanAmount, Loan_Amount_Term), dtype: float64\n",
      "0    0.036882\n",
      "Name: (Loan_Amount_Term, LoanAmount), dtype: float64\n"
     ]
    }
   ],
   "source": [
    "c = mod_ld.corr().abs()\n",
    "s = c.unstack()\n",
    "so = s.sort_values(kind=\"quicksort\", ascending=False)\n",
    "for idx, row in pd.DataFrame(so).iterrows():\n",
    "    if row[0] < 1:\n",
    "        print(row)"
   ]
  },
  {
   "cell_type": "markdown",
   "id": "0749c317",
   "metadata": {},
   "source": [
    "Looking at the numerical data, there is no obvious correlation that suggests that one variable can be substituited for another. \n",
    "\n",
    "It is also important to analyse whether or not any data is repetitive to the point of low levels of variance.  "
   ]
  },
  {
   "cell_type": "code",
   "execution_count": 31,
   "id": "ed3e51aa",
   "metadata": {},
   "outputs": [
    {
     "data": {
      "text/html": [
       "<div>\n",
       "<style scoped>\n",
       "    .dataframe tbody tr th:only-of-type {\n",
       "        vertical-align: middle;\n",
       "    }\n",
       "\n",
       "    .dataframe tbody tr th {\n",
       "        vertical-align: top;\n",
       "    }\n",
       "\n",
       "    .dataframe thead th {\n",
       "        text-align: right;\n",
       "    }\n",
       "</style>\n",
       "<table border=\"1\" class=\"dataframe\">\n",
       "  <thead>\n",
       "    <tr style=\"text-align: right;\">\n",
       "      <th></th>\n",
       "      <th>Gender</th>\n",
       "    </tr>\n",
       "    <tr>\n",
       "      <th>Gender</th>\n",
       "      <th></th>\n",
       "    </tr>\n",
       "  </thead>\n",
       "  <tbody>\n",
       "    <tr>\n",
       "      <th>Female</th>\n",
       "      <td>107</td>\n",
       "    </tr>\n",
       "    <tr>\n",
       "      <th>Male</th>\n",
       "      <td>472</td>\n",
       "    </tr>\n",
       "  </tbody>\n",
       "</table>\n",
       "</div>"
      ],
      "text/plain": [
       "        Gender\n",
       "Gender        \n",
       "Female     107\n",
       "Male       472"
      ]
     },
     "execution_count": 31,
     "metadata": {},
     "output_type": "execute_result"
    }
   ],
   "source": [
    "mod_ld.groupby([\"Gender\"]).agg({'Gender':'count'})"
   ]
  },
  {
   "cell_type": "code",
   "execution_count": 32,
   "id": "1046ff03",
   "metadata": {},
   "outputs": [
    {
     "data": {
      "text/html": [
       "<div>\n",
       "<style scoped>\n",
       "    .dataframe tbody tr th:only-of-type {\n",
       "        vertical-align: middle;\n",
       "    }\n",
       "\n",
       "    .dataframe tbody tr th {\n",
       "        vertical-align: top;\n",
       "    }\n",
       "\n",
       "    .dataframe thead th {\n",
       "        text-align: right;\n",
       "    }\n",
       "</style>\n",
       "<table border=\"1\" class=\"dataframe\">\n",
       "  <thead>\n",
       "    <tr style=\"text-align: right;\">\n",
       "      <th></th>\n",
       "      <th>Credit_History</th>\n",
       "    </tr>\n",
       "    <tr>\n",
       "      <th>Credit_History</th>\n",
       "      <th></th>\n",
       "    </tr>\n",
       "  </thead>\n",
       "  <tbody>\n",
       "    <tr>\n",
       "      <th>0.0</th>\n",
       "      <td>80</td>\n",
       "    </tr>\n",
       "    <tr>\n",
       "      <th>1.0</th>\n",
       "      <td>450</td>\n",
       "    </tr>\n",
       "    <tr>\n",
       "      <th>1</th>\n",
       "      <td>49</td>\n",
       "    </tr>\n",
       "  </tbody>\n",
       "</table>\n",
       "</div>"
      ],
      "text/plain": [
       "                Credit_History\n",
       "Credit_History                \n",
       "0.0                         80\n",
       "1.0                        450\n",
       "1                           49"
      ]
     },
     "execution_count": 32,
     "metadata": {},
     "output_type": "execute_result"
    }
   ],
   "source": [
    "mod_ld.groupby([\"Credit_History\"]).agg({'Credit_History':'count'})"
   ]
  },
  {
   "cell_type": "code",
   "execution_count": 33,
   "id": "2eaaa92f",
   "metadata": {},
   "outputs": [
    {
     "data": {
      "text/html": [
       "<div>\n",
       "<style scoped>\n",
       "    .dataframe tbody tr th:only-of-type {\n",
       "        vertical-align: middle;\n",
       "    }\n",
       "\n",
       "    .dataframe tbody tr th {\n",
       "        vertical-align: top;\n",
       "    }\n",
       "\n",
       "    .dataframe thead th {\n",
       "        text-align: right;\n",
       "    }\n",
       "</style>\n",
       "<table border=\"1\" class=\"dataframe\">\n",
       "  <thead>\n",
       "    <tr style=\"text-align: right;\">\n",
       "      <th></th>\n",
       "      <th>Married</th>\n",
       "    </tr>\n",
       "    <tr>\n",
       "      <th>Married</th>\n",
       "      <th></th>\n",
       "    </tr>\n",
       "  </thead>\n",
       "  <tbody>\n",
       "    <tr>\n",
       "      <th>No</th>\n",
       "      <td>202</td>\n",
       "    </tr>\n",
       "    <tr>\n",
       "      <th>Yes</th>\n",
       "      <td>377</td>\n",
       "    </tr>\n",
       "  </tbody>\n",
       "</table>\n",
       "</div>"
      ],
      "text/plain": [
       "         Married\n",
       "Married         \n",
       "No           202\n",
       "Yes          377"
      ]
     },
     "execution_count": 33,
     "metadata": {},
     "output_type": "execute_result"
    }
   ],
   "source": [
    "mod_ld.groupby([\"Married\"]).agg({'Married':'count'})"
   ]
  },
  {
   "cell_type": "code",
   "execution_count": 34,
   "id": "0b5670b1",
   "metadata": {},
   "outputs": [
    {
     "data": {
      "text/html": [
       "<div>\n",
       "<style scoped>\n",
       "    .dataframe tbody tr th:only-of-type {\n",
       "        vertical-align: middle;\n",
       "    }\n",
       "\n",
       "    .dataframe tbody tr th {\n",
       "        vertical-align: top;\n",
       "    }\n",
       "\n",
       "    .dataframe thead th {\n",
       "        text-align: right;\n",
       "    }\n",
       "</style>\n",
       "<table border=\"1\" class=\"dataframe\">\n",
       "  <thead>\n",
       "    <tr style=\"text-align: right;\">\n",
       "      <th></th>\n",
       "      <th>Education</th>\n",
       "    </tr>\n",
       "    <tr>\n",
       "      <th>Education</th>\n",
       "      <th></th>\n",
       "    </tr>\n",
       "  </thead>\n",
       "  <tbody>\n",
       "    <tr>\n",
       "      <th>Graduate</th>\n",
       "      <td>456</td>\n",
       "    </tr>\n",
       "    <tr>\n",
       "      <th>Not Graduate</th>\n",
       "      <td>123</td>\n",
       "    </tr>\n",
       "  </tbody>\n",
       "</table>\n",
       "</div>"
      ],
      "text/plain": [
       "              Education\n",
       "Education              \n",
       "Graduate            456\n",
       "Not Graduate        123"
      ]
     },
     "execution_count": 34,
     "metadata": {},
     "output_type": "execute_result"
    }
   ],
   "source": [
    "mod_ld.groupby([\"Education\"]).agg({'Education':'count'})"
   ]
  },
  {
   "cell_type": "code",
   "execution_count": 35,
   "id": "addef7e6",
   "metadata": {},
   "outputs": [
    {
     "data": {
      "text/html": [
       "<div>\n",
       "<style scoped>\n",
       "    .dataframe tbody tr th:only-of-type {\n",
       "        vertical-align: middle;\n",
       "    }\n",
       "\n",
       "    .dataframe tbody tr th {\n",
       "        vertical-align: top;\n",
       "    }\n",
       "\n",
       "    .dataframe thead th {\n",
       "        text-align: right;\n",
       "    }\n",
       "</style>\n",
       "<table border=\"1\" class=\"dataframe\">\n",
       "  <thead>\n",
       "    <tr style=\"text-align: right;\">\n",
       "      <th></th>\n",
       "      <th>Self_Employed</th>\n",
       "    </tr>\n",
       "    <tr>\n",
       "      <th>Self_Employed</th>\n",
       "      <th></th>\n",
       "    </tr>\n",
       "  </thead>\n",
       "  <tbody>\n",
       "    <tr>\n",
       "      <th>No</th>\n",
       "      <td>532</td>\n",
       "    </tr>\n",
       "    <tr>\n",
       "      <th>Yes</th>\n",
       "      <td>82</td>\n",
       "    </tr>\n",
       "  </tbody>\n",
       "</table>\n",
       "</div>"
      ],
      "text/plain": [
       "               Self_Employed\n",
       "Self_Employed               \n",
       "No                       532\n",
       "Yes                       82"
      ]
     },
     "execution_count": 35,
     "metadata": {},
     "output_type": "execute_result"
    }
   ],
   "source": [
    "ld.groupby([\"Self_Employed\"]).agg({'Self_Employed':'count'})"
   ]
  },
  {
   "cell_type": "code",
   "execution_count": 36,
   "id": "313c1c50",
   "metadata": {},
   "outputs": [
    {
     "data": {
      "text/html": [
       "<div>\n",
       "<style scoped>\n",
       "    .dataframe tbody tr th:only-of-type {\n",
       "        vertical-align: middle;\n",
       "    }\n",
       "\n",
       "    .dataframe tbody tr th {\n",
       "        vertical-align: top;\n",
       "    }\n",
       "\n",
       "    .dataframe thead th {\n",
       "        text-align: right;\n",
       "    }\n",
       "</style>\n",
       "<table border=\"1\" class=\"dataframe\">\n",
       "  <thead>\n",
       "    <tr style=\"text-align: right;\">\n",
       "      <th></th>\n",
       "      <th>Property_Area</th>\n",
       "    </tr>\n",
       "    <tr>\n",
       "      <th>Property_Area</th>\n",
       "      <th></th>\n",
       "    </tr>\n",
       "  </thead>\n",
       "  <tbody>\n",
       "    <tr>\n",
       "      <th>Rural</th>\n",
       "      <td>179</td>\n",
       "    </tr>\n",
       "    <tr>\n",
       "      <th>Semiurban</th>\n",
       "      <td>233</td>\n",
       "    </tr>\n",
       "    <tr>\n",
       "      <th>Urban</th>\n",
       "      <td>202</td>\n",
       "    </tr>\n",
       "  </tbody>\n",
       "</table>\n",
       "</div>"
      ],
      "text/plain": [
       "               Property_Area\n",
       "Property_Area               \n",
       "Rural                    179\n",
       "Semiurban                233\n",
       "Urban                    202"
      ]
     },
     "execution_count": 36,
     "metadata": {},
     "output_type": "execute_result"
    }
   ],
   "source": [
    "ld.groupby([\"Property_Area\"]).agg({'Property_Area':'count'})"
   ]
  },
  {
   "cell_type": "markdown",
   "id": "26504a80",
   "metadata": {},
   "source": [
    "For these data types, it is clear that Self-Employment, credit history and Gender do not vary much in this data set.  It is therefore more logical to eliminate these options as they do not provide us with enough variance to have much of a say on their affect on the output.  "
   ]
  },
  {
   "cell_type": "code",
   "execution_count": 37,
   "id": "a49979af",
   "metadata": {},
   "outputs": [],
   "source": [
    "df = mod_ld\n",
    "df = df.drop(columns=['Self_Employed', 'Gender', 'Credit_History', 'LoanAmount', 'Loan_Amount_Term', 'ApplicantIncome', 'CoapplicantIncome'])"
   ]
  },
  {
   "cell_type": "markdown",
   "id": "301c3f38",
   "metadata": {},
   "source": [
    "For categorical columns (after you’ve dealt with missing values and after you have reduced the number of categories) make sure to LabelEncode your values\n"
   ]
  },
  {
   "cell_type": "code",
   "execution_count": 38,
   "id": "f0cffe91",
   "metadata": {},
   "outputs": [
    {
     "data": {
      "text/html": [
       "<div>\n",
       "<style scoped>\n",
       "    .dataframe tbody tr th:only-of-type {\n",
       "        vertical-align: middle;\n",
       "    }\n",
       "\n",
       "    .dataframe tbody tr th {\n",
       "        vertical-align: top;\n",
       "    }\n",
       "\n",
       "    .dataframe thead th {\n",
       "        text-align: right;\n",
       "    }\n",
       "</style>\n",
       "<table border=\"1\" class=\"dataframe\">\n",
       "  <thead>\n",
       "    <tr style=\"text-align: right;\">\n",
       "      <th></th>\n",
       "      <th>Loan_ID</th>\n",
       "      <th>Married</th>\n",
       "      <th>Dependents</th>\n",
       "      <th>Education</th>\n",
       "      <th>Property_Area</th>\n",
       "      <th>Loan_Status</th>\n",
       "      <th>Loan_Amount_Term_Binned</th>\n",
       "      <th>Loan_Amount_Binned</th>\n",
       "      <th>ApplicantIncomeBinned</th>\n",
       "      <th>CoapplicantIncomeBinned</th>\n",
       "    </tr>\n",
       "  </thead>\n",
       "  <tbody>\n",
       "    <tr>\n",
       "      <th>1</th>\n",
       "      <td>LP001003</td>\n",
       "      <td>1</td>\n",
       "      <td>1</td>\n",
       "      <td>0</td>\n",
       "      <td>0</td>\n",
       "      <td>0</td>\n",
       "      <td>5</td>\n",
       "      <td>2</td>\n",
       "      <td>6</td>\n",
       "      <td>3</td>\n",
       "    </tr>\n",
       "    <tr>\n",
       "      <th>2</th>\n",
       "      <td>LP001005</td>\n",
       "      <td>1</td>\n",
       "      <td>0</td>\n",
       "      <td>0</td>\n",
       "      <td>2</td>\n",
       "      <td>1</td>\n",
       "      <td>5</td>\n",
       "      <td>1</td>\n",
       "      <td>2</td>\n",
       "      <td>0</td>\n",
       "    </tr>\n",
       "    <tr>\n",
       "      <th>3</th>\n",
       "      <td>LP001006</td>\n",
       "      <td>1</td>\n",
       "      <td>0</td>\n",
       "      <td>1</td>\n",
       "      <td>2</td>\n",
       "      <td>1</td>\n",
       "      <td>5</td>\n",
       "      <td>2</td>\n",
       "      <td>1</td>\n",
       "      <td>7</td>\n",
       "    </tr>\n",
       "    <tr>\n",
       "      <th>4</th>\n",
       "      <td>LP001008</td>\n",
       "      <td>0</td>\n",
       "      <td>0</td>\n",
       "      <td>0</td>\n",
       "      <td>2</td>\n",
       "      <td>1</td>\n",
       "      <td>5</td>\n",
       "      <td>2</td>\n",
       "      <td>7</td>\n",
       "      <td>0</td>\n",
       "    </tr>\n",
       "    <tr>\n",
       "      <th>5</th>\n",
       "      <td>LP001011</td>\n",
       "      <td>1</td>\n",
       "      <td>2</td>\n",
       "      <td>0</td>\n",
       "      <td>2</td>\n",
       "      <td>1</td>\n",
       "      <td>5</td>\n",
       "      <td>5</td>\n",
       "      <td>7</td>\n",
       "      <td>10</td>\n",
       "    </tr>\n",
       "  </tbody>\n",
       "</table>\n",
       "</div>"
      ],
      "text/plain": [
       "    Loan_ID  Married  Dependents  Education  Property_Area  Loan_Status  \\\n",
       "1  LP001003        1           1          0              0            0   \n",
       "2  LP001005        1           0          0              2            1   \n",
       "3  LP001006        1           0          1              2            1   \n",
       "4  LP001008        0           0          0              2            1   \n",
       "5  LP001011        1           2          0              2            1   \n",
       "\n",
       "   Loan_Amount_Term_Binned  Loan_Amount_Binned  ApplicantIncomeBinned  \\\n",
       "1                        5                   2                      6   \n",
       "2                        5                   1                      2   \n",
       "3                        5                   2                      1   \n",
       "4                        5                   2                      7   \n",
       "5                        5                   5                      7   \n",
       "\n",
       "   CoapplicantIncomeBinned  \n",
       "1                        3  \n",
       "2                        0  \n",
       "3                        7  \n",
       "4                        0  \n",
       "5                       10  "
      ]
     },
     "execution_count": 38,
     "metadata": {},
     "output_type": "execute_result"
    }
   ],
   "source": [
    "from sklearn.preprocessing import LabelEncoder\n",
    "# creating instance of labelencoder\n",
    "labelencoder = LabelEncoder()\n",
    "# Assigning numerical values and storing in another column\n",
    "df['Education'] = labelencoder.fit_transform(df['Education'])\n",
    "df['Married'] = labelencoder.fit_transform(df['Married'])\n",
    "df['Dependents'] = labelencoder.fit_transform(df['Dependents'])\n",
    "df['Property_Area'] = labelencoder.fit_transform(df['Property_Area'])\n",
    "df['Loan_Status'] = labelencoder.fit_transform(df['Loan_Status'])\n",
    "df['Loan_Amount_Term_Binned'] = labelencoder.fit_transform(df['Loan_Amount_Term_Binned'])\n",
    "df['Loan_Amount_Binned'] = labelencoder.fit_transform(df['Loan_Amount_Binned'])\n",
    "df['ApplicantIncomeBinned'] = labelencoder.fit_transform(df['ApplicantIncomeBinned'])\n",
    "df['CoapplicantIncomeBinned'] = labelencoder.fit_transform(df['CoapplicantIncomeBinned'])\n",
    "\n",
    "\n",
    "\n",
    "df.head()"
   ]
  },
  {
   "cell_type": "markdown",
   "id": "518497c9",
   "metadata": {},
   "source": [
    "## Train Model"
   ]
  },
  {
   "cell_type": "markdown",
   "id": "d92d8528",
   "metadata": {},
   "source": [
    "Train and evaluate three classification models, using any combination of Naive Bayes, SVM, KNN, LogisticRegression, DecisionTree, or RandomForest algorithms.  Your models must predict the Loan_Status.\n",
    "Justify why you selected a particular algorithm based on your review of the data and based on the strengths and weaknesses of each of the algorithms discussed in the class and presented in the slides\n"
   ]
  },
  {
   "cell_type": "markdown",
   "id": "40469f6d",
   "metadata": {},
   "source": [
    "The first model I chose to train was a SVM Model.  My reasoning for this was wanting to test a large amount of variables, where numerical data did not define distance.  \n",
    "\n",
    "Skeleton of SVM credit to: https://vitalflux.com/classification-model-svm-classifier-python-example/"
   ]
  },
  {
   "cell_type": "code",
   "execution_count": 39,
   "id": "3c43dfe0",
   "metadata": {},
   "outputs": [],
   "source": [
    "from sklearn.linear_model import Perceptron, LogisticRegression\n",
    "from sklearn.svm import SVC\n",
    "from sklearn.model_selection import train_test_split\n",
    "from sklearn.preprocessing import StandardScaler\n",
    "from sklearn import datasets\n",
    "from sklearn import metrics"
   ]
  },
  {
   "cell_type": "code",
   "execution_count": 40,
   "id": "13d9afca",
   "metadata": {},
   "outputs": [],
   "source": [
    "X = df[['Married', 'Dependents', 'Education', 'Property_Area', 'Loan_Amount_Term_Binned', 'Loan_Amount_Binned', 'ApplicantIncomeBinned', 'CoapplicantIncomeBinned']]\n",
    "y = df['Loan_Status']\n",
    " \n",
    "# Create training and test split\n",
    "X_train, X_test, y_train, y_test = train_test_split(X, y, test_size=0.3, random_state=1, stratify=y)\n",
    "\n",
    "sc = StandardScaler()\n",
    "sc.fit(X_train)\n",
    "X_train_std = sc.transform(X_train)\n",
    "X_test_std = sc.transform(X_test)"
   ]
  },
  {
   "cell_type": "code",
   "execution_count": 41,
   "id": "3bc816e5",
   "metadata": {},
   "outputs": [
    {
     "data": {
      "text/plain": [
       "SVC(kernel='linear', random_state=1)"
      ]
     },
     "execution_count": 41,
     "metadata": {},
     "output_type": "execute_result"
    }
   ],
   "source": [
    "# Instantiate the Support Vector Classifier (SVC)\n",
    "svc = SVC(C=1.0, random_state=1, kernel='linear')\n",
    " \n",
    "# Fit the model\n",
    "svc.fit(X_train_std, y_train)"
   ]
  },
  {
   "cell_type": "code",
   "execution_count": 42,
   "id": "34822801",
   "metadata": {},
   "outputs": [
    {
     "name": "stdout",
     "output_type": "stream",
     "text": [
      "Accuracy score 0.695\n"
     ]
    }
   ],
   "source": [
    "# Make the predictions\n",
    "y_predict = svc.predict(X_test_std)\n",
    " \n",
    "# Measure the performance\n",
    "print(\"Accuracy score %.3f\" %metrics.accuracy_score(y_test, y_predict))"
   ]
  },
  {
   "cell_type": "code",
   "execution_count": 43,
   "id": "a60ab5ef",
   "metadata": {},
   "outputs": [
    {
     "name": "stdout",
     "output_type": "stream",
     "text": [
      "Accuracy score 0.695\n"
     ]
    }
   ],
   "source": [
    "X = df[['Dependents', 'Education', 'Property_Area', 'Loan_Amount_Term_Binned', 'Loan_Amount_Binned', 'ApplicantIncomeBinned', 'CoapplicantIncomeBinned']]\n",
    "y = df['Loan_Status']\n",
    " \n",
    "# Create training and test split\n",
    "X_train, X_test, y_train, y_test = train_test_split(X, y, test_size=0.3, random_state=1, stratify=y)\n",
    "\n",
    "sc = StandardScaler()\n",
    "sc.fit(X_train)\n",
    "X_train_std = sc.transform(X_train)\n",
    "X_test_std = sc.transform(X_test)\n",
    "# Instantiate the Support Vector Classifier (SVC)\n",
    "svc = SVC(C=1.0, random_state=1, kernel='linear')\n",
    " \n",
    "# Fit the model\n",
    "svc.fit(X_train_std, y_train)\n",
    "# Make the predictions\n",
    "y_predict = svc.predict(X_test_std)\n",
    " \n",
    "# Measure the performance\n",
    "print(\"Accuracy score %.3f\" %metrics.accuracy_score(y_test, y_predict))"
   ]
  },
  {
   "cell_type": "markdown",
   "id": "fd374f3f",
   "metadata": {},
   "source": [
    "Next we will try Naive Bayes as it works well with categorical data, and works well with many variables.\n",
    "\n",
    "Gaussian NB Skeleton provided by: https://www.analyticsvidhya.com/blog/2021/01/a-guide-to-the-naive-bayes-algorithm/"
   ]
  },
  {
   "cell_type": "code",
   "execution_count": 61,
   "id": "c625b72d",
   "metadata": {},
   "outputs": [
    {
     "name": "stdout",
     "output_type": "stream",
     "text": [
      "Accuracy Score: 0.6954022988505747\n"
     ]
    }
   ],
   "source": [
    "X = df[['Education', 'Property_Area', 'Loan_Amount_Term_Binned', 'Loan_Amount_Binned', 'ApplicantIncomeBinned', 'CoapplicantIncomeBinned']]\n",
    "y = df['Loan_Status']\n",
    " \n",
    "# Create training and test split\n",
    "X_train, X_test, y_train, y_test = train_test_split(X, y, test_size=0.3, random_state=1, stratify=y)\n",
    "\n",
    "from sklearn.preprocessing import StandardScaler\n",
    "sc = StandardScaler()\n",
    "X_train = sc.fit_transform(X_train)\n",
    "X_test = sc.transform(X_test)\n",
    "\n",
    "from sklearn.naive_bayes import GaussianNB\n",
    "classifier = GaussianNB()\n",
    "classifier.fit(X_train, y_train)\n",
    "y_pred  =  classifier.predict(X_test)\n",
    "\n",
    "from sklearn.metrics import confusion_matrix,accuracy_score\n",
    "cm = confusion_matrix(y_test, y_pred)\n",
    "ac = accuracy_score(y_test,y_pred)\n",
    "print(\"Accuracy Score: \" + ac.astype('str'))"
   ]
  },
  {
   "cell_type": "markdown",
   "id": "bcf1ebc1",
   "metadata": {},
   "source": [
    "I would have used decision trees because of their ability to interpret categorical data but I honestly could not figure out a bug I had and I am tired.  \n",
    "\n",
    "I decided to use kNN because of its ability to handle large amounts of data."
   ]
  },
  {
   "cell_type": "code",
   "execution_count": 59,
   "id": "e93b398e",
   "metadata": {},
   "outputs": [
    {
     "name": "stdout",
     "output_type": "stream",
     "text": [
      "Accuracy of model at K=9 is 0.6954022988505747\n"
     ]
    }
   ],
   "source": [
    "X = df[['Married', 'Dependents', 'Education', 'Property_Area', 'Loan_Amount_Term_Binned', 'Loan_Amount_Binned', 'ApplicantIncomeBinned', 'CoapplicantIncomeBinned']]\n",
    "y = df['Loan_Status']\n",
    " \n",
    "# Create training and test split\n",
    "X_train, X_test, y_train, y_test = train_test_split(X, y, test_size=0.3, random_state=1, stratify=y)\n",
    "\n",
    "from sklearn.neighbors import KNeighborsClassifier\n",
    "from sklearn import metrics\n",
    "#Train Model and Predict\n",
    "k = 9 \n",
    "neigh = KNeighborsClassifier(n_neighbors = k).fit(X_train,y_train)\n",
    "Pred_y = neigh.predict(X_test)\n",
    "print(\"Accuracy of model at K=9 is\",metrics.accuracy_score(y_test, Pred_y))"
   ]
  },
  {
   "cell_type": "markdown",
   "id": "8020f04c",
   "metadata": {},
   "source": [
    "## Evaluate"
   ]
  },
  {
   "cell_type": "markdown",
   "id": "123d4099",
   "metadata": {},
   "source": [
    "Report each model’s accuracy score\n",
    "Report each model’s AUC score\n",
    "Compare accuracy for the three models and make a recommendation as to which model performed best\n"
   ]
  },
  {
   "cell_type": "markdown",
   "id": "827578f9",
   "metadata": {},
   "source": [
    "Experiment with counterfactuals - try to change inputs into your best model and see how it affect predictions.  Describe what factors seem to influence loan approvals the most based on your counterfactuals observations.\n",
    "Write a paragraph (as markdown) explaining whether or not your best  model is “good” and why\n"
   ]
  },
  {
   "cell_type": "markdown",
   "id": "f8db2cd6",
   "metadata": {},
   "source": [
    "Surprisingly, my best of each model remained at almost the same accuracy score.  No matter what columns I used to assess the data, the best I could get was always .695.  This makes it quite hard to compare these models from score alone, but I note that SVM's accuracy score remained high no matter what was or wasn't placed in front of it, so if I were to use a model, it would be that one.  "
   ]
  },
  {
   "cell_type": "code",
   "execution_count": null,
   "id": "c6717091",
   "metadata": {},
   "outputs": [],
   "source": []
  }
 ],
 "metadata": {
  "kernelspec": {
   "display_name": "Python 3 (ipykernel)",
   "language": "python",
   "name": "python3"
  },
  "language_info": {
   "codemirror_mode": {
    "name": "ipython",
    "version": 3
   },
   "file_extension": ".py",
   "mimetype": "text/x-python",
   "name": "python",
   "nbconvert_exporter": "python",
   "pygments_lexer": "ipython3",
   "version": "3.9.12"
  }
 },
 "nbformat": 4,
 "nbformat_minor": 5
}
