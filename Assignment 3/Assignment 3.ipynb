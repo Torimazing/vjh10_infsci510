{
 "cells": [
  {
   "cell_type": "markdown",
   "id": "fcf136d0",
   "metadata": {},
   "source": [
    "# Assignment 3"
   ]
  },
  {
   "cell_type": "markdown",
   "id": "85f5c85d",
   "metadata": {},
   "source": [
    "## Missing Values"
   ]
  },
  {
   "cell_type": "markdown",
   "id": "1afc0590",
   "metadata": {},
   "source": [
    "Check for missing values.  If there are any missing values, deal with them appropriately.\n",
    "Provide written justification explaining why you selected particular methods for dealing with missing values\n"
   ]
  },
  {
   "cell_type": "code",
   "execution_count": 1,
   "id": "06e53ae4",
   "metadata": {},
   "outputs": [],
   "source": [
    "import pandas as pd\n",
    "import numpy as np"
   ]
  },
  {
   "cell_type": "code",
   "execution_count": 2,
   "id": "df29f03b",
   "metadata": {},
   "outputs": [],
   "source": [
    "ld = pd.read_csv(\"loan_data.csv\")\n",
    "#ld.head()\n",
    "#ld.tail()"
   ]
  },
  {
   "cell_type": "code",
   "execution_count": 3,
   "id": "262dfab9",
   "metadata": {},
   "outputs": [
    {
     "data": {
      "text/plain": [
       "Loan_ID               0\n",
       "Gender               13\n",
       "Married               3\n",
       "Dependents           15\n",
       "Education             0\n",
       "Self_Employed        32\n",
       "ApplicantIncome       0\n",
       "CoapplicantIncome     0\n",
       "LoanAmount           22\n",
       "Loan_Amount_Term     14\n",
       "Credit_History       50\n",
       "Property_Area         0\n",
       "Loan_Status           0\n",
       "dtype: int64"
      ]
     },
     "execution_count": 3,
     "metadata": {},
     "output_type": "execute_result"
    }
   ],
   "source": [
    "ld.isnull().sum()"
   ]
  },
  {
   "cell_type": "markdown",
   "id": "1d2fb215",
   "metadata": {},
   "source": [
    "There are missing data inputs in: Gender, Married, Dependents, Self_Employed, LoanAmount, Loan_Amount_Term, and Credit_History."
   ]
  },
  {
   "cell_type": "code",
   "execution_count": 4,
   "id": "3bdace89",
   "metadata": {},
   "outputs": [
    {
     "data": {
      "text/html": [
       "<div>\n",
       "<style scoped>\n",
       "    .dataframe tbody tr th:only-of-type {\n",
       "        vertical-align: middle;\n",
       "    }\n",
       "\n",
       "    .dataframe tbody tr th {\n",
       "        vertical-align: top;\n",
       "    }\n",
       "\n",
       "    .dataframe thead th {\n",
       "        text-align: right;\n",
       "    }\n",
       "</style>\n",
       "<table border=\"1\" class=\"dataframe\">\n",
       "  <thead>\n",
       "    <tr style=\"text-align: right;\">\n",
       "      <th></th>\n",
       "      <th>Gender</th>\n",
       "    </tr>\n",
       "    <tr>\n",
       "      <th>Gender</th>\n",
       "      <th></th>\n",
       "    </tr>\n",
       "  </thead>\n",
       "  <tbody>\n",
       "    <tr>\n",
       "      <th>Female</th>\n",
       "      <td>112</td>\n",
       "    </tr>\n",
       "    <tr>\n",
       "      <th>Male</th>\n",
       "      <td>489</td>\n",
       "    </tr>\n",
       "  </tbody>\n",
       "</table>\n",
       "</div>"
      ],
      "text/plain": [
       "        Gender\n",
       "Gender        \n",
       "Female     112\n",
       "Male       489"
      ]
     },
     "execution_count": 4,
     "metadata": {},
     "output_type": "execute_result"
    }
   ],
   "source": [
    "ld.groupby([\"Gender\"]).agg({'Gender':'count'})"
   ]
  },
  {
   "cell_type": "markdown",
   "id": "246a02be",
   "metadata": {},
   "source": [
    "This data seems to be stemming from an internal system documenting loan applicants' status and information.  This would suggest that any missing data is not reflective of a deliberate issue, or missing at random. \n",
    "\n",
    "Since Gender is a non-numeric, discrete variable and it has a high preference towards men in this dataset, it is appropriate to fill in the missing values with male and feel relativley safe on that assumption."
   ]
  },
  {
   "cell_type": "code",
   "execution_count": 5,
   "id": "6bb26eb5",
   "metadata": {},
   "outputs": [
    {
     "data": {
      "text/html": [
       "<div>\n",
       "<style scoped>\n",
       "    .dataframe tbody tr th:only-of-type {\n",
       "        vertical-align: middle;\n",
       "    }\n",
       "\n",
       "    .dataframe tbody tr th {\n",
       "        vertical-align: top;\n",
       "    }\n",
       "\n",
       "    .dataframe thead th {\n",
       "        text-align: right;\n",
       "    }\n",
       "</style>\n",
       "<table border=\"1\" class=\"dataframe\">\n",
       "  <thead>\n",
       "    <tr style=\"text-align: right;\">\n",
       "      <th></th>\n",
       "      <th>Gender</th>\n",
       "    </tr>\n",
       "    <tr>\n",
       "      <th>Gender</th>\n",
       "      <th></th>\n",
       "    </tr>\n",
       "  </thead>\n",
       "  <tbody>\n",
       "    <tr>\n",
       "      <th>Female</th>\n",
       "      <td>112</td>\n",
       "    </tr>\n",
       "    <tr>\n",
       "      <th>Male</th>\n",
       "      <td>502</td>\n",
       "    </tr>\n",
       "  </tbody>\n",
       "</table>\n",
       "</div>"
      ],
      "text/plain": [
       "        Gender\n",
       "Gender        \n",
       "Female     112\n",
       "Male       502"
      ]
     },
     "execution_count": 5,
     "metadata": {},
     "output_type": "execute_result"
    }
   ],
   "source": [
    "mod_ld = ld\n",
    "mod_ld[\"Gender\"].fillna(\"Male\", inplace=True)\n",
    "mod_ld.groupby([\"Gender\"]).agg({'Gender':'count'})"
   ]
  },
  {
   "cell_type": "markdown",
   "id": "e8a1dd21",
   "metadata": {},
   "source": [
    "The number of missing data entries related to marital status is quite low, 3, and therefore it is most appropriate to delete these entries to eliminate the missing variables."
   ]
  },
  {
   "cell_type": "code",
   "execution_count": 6,
   "id": "a3090970",
   "metadata": {},
   "outputs": [
    {
     "data": {
      "text/plain": [
       "0       No\n",
       "1      Yes\n",
       "2      Yes\n",
       "3      Yes\n",
       "4       No\n",
       "      ... \n",
       "609     No\n",
       "610    Yes\n",
       "611    Yes\n",
       "612    Yes\n",
       "613     No\n",
       "Name: Married, Length: 611, dtype: object"
      ]
     },
     "execution_count": 6,
     "metadata": {},
     "output_type": "execute_result"
    }
   ],
   "source": [
    "mod_ld['Married'].dropna()"
   ]
  },
  {
   "cell_type": "code",
   "execution_count": 7,
   "id": "f53267a4",
   "metadata": {},
   "outputs": [
    {
     "data": {
      "text/plain": [
       "<AxesSubplot:>"
      ]
     },
     "execution_count": 7,
     "metadata": {},
     "output_type": "execute_result"
    },
    {
     "data": {
      "image/png": "[encoded data removed]",
      "text/plain": [
       "<Figure size 432x288 with 1 Axes>"
      ]
     },
     "metadata": {
      "needs_background": "light"
     },
     "output_type": "display_data"
    }
   ],
   "source": [
    "ld['Dependents'].hist()"
   ]
  },
  {
   "cell_type": "markdown",
   "id": "d7ab5a12",
   "metadata": {},
   "source": [
    "Dependents data is not normally distributed, nor is it predictable in order to impute missing values.  Since the number of missing values remains low, we shall drop these rows from our dataset."
   ]
  },
  {
   "cell_type": "code",
   "execution_count": 8,
   "id": "02d4efe3",
   "metadata": {},
   "outputs": [
    {
     "data": {
      "text/plain": [
       "0       0\n",
       "1       1\n",
       "2       0\n",
       "3       0\n",
       "4       0\n",
       "       ..\n",
       "609     0\n",
       "610    3+\n",
       "611     1\n",
       "612     2\n",
       "613     0\n",
       "Name: Dependents, Length: 599, dtype: object"
      ]
     },
     "execution_count": 8,
     "metadata": {},
     "output_type": "execute_result"
    }
   ],
   "source": [
    "mod_ld['Dependents'].dropna()"
   ]
  },
  {
   "cell_type": "code",
   "execution_count": 9,
   "id": "3dd5e0be",
   "metadata": {},
   "outputs": [
    {
     "data": {
      "text/html": [
       "<div>\n",
       "<style scoped>\n",
       "    .dataframe tbody tr th:only-of-type {\n",
       "        vertical-align: middle;\n",
       "    }\n",
       "\n",
       "    .dataframe tbody tr th {\n",
       "        vertical-align: top;\n",
       "    }\n",
       "\n",
       "    .dataframe thead th {\n",
       "        text-align: right;\n",
       "    }\n",
       "</style>\n",
       "<table border=\"1\" class=\"dataframe\">\n",
       "  <thead>\n",
       "    <tr style=\"text-align: right;\">\n",
       "      <th></th>\n",
       "      <th>Self_Employed</th>\n",
       "    </tr>\n",
       "    <tr>\n",
       "      <th>Self_Employed</th>\n",
       "      <th></th>\n",
       "    </tr>\n",
       "  </thead>\n",
       "  <tbody>\n",
       "    <tr>\n",
       "      <th>No</th>\n",
       "      <td>500</td>\n",
       "    </tr>\n",
       "    <tr>\n",
       "      <th>Yes</th>\n",
       "      <td>82</td>\n",
       "    </tr>\n",
       "  </tbody>\n",
       "</table>\n",
       "</div>"
      ],
      "text/plain": [
       "               Self_Employed\n",
       "Self_Employed               \n",
       "No                       500\n",
       "Yes                       82"
      ]
     },
     "execution_count": 9,
     "metadata": {},
     "output_type": "execute_result"
    }
   ],
   "source": [
    "ld.groupby([\"Self_Employed\"]).agg({'Self_Employed':'count'})"
   ]
  },
  {
   "cell_type": "markdown",
   "id": "b502c894",
   "metadata": {},
   "source": [
    "Since employment status is a non-numeric, discrete variable and it has a high preference towards No in this dataset, it is appropriate to fill in the missing values with no and feel relativley safe on that assumption."
   ]
  },
  {
   "cell_type": "code",
   "execution_count": 10,
   "id": "135e4725",
   "metadata": {},
   "outputs": [
    {
     "data": {
      "text/html": [
       "<div>\n",
       "<style scoped>\n",
       "    .dataframe tbody tr th:only-of-type {\n",
       "        vertical-align: middle;\n",
       "    }\n",
       "\n",
       "    .dataframe tbody tr th {\n",
       "        vertical-align: top;\n",
       "    }\n",
       "\n",
       "    .dataframe thead th {\n",
       "        text-align: right;\n",
       "    }\n",
       "</style>\n",
       "<table border=\"1\" class=\"dataframe\">\n",
       "  <thead>\n",
       "    <tr style=\"text-align: right;\">\n",
       "      <th></th>\n",
       "      <th>Self_Employed</th>\n",
       "    </tr>\n",
       "    <tr>\n",
       "      <th>Self_Employed</th>\n",
       "      <th></th>\n",
       "    </tr>\n",
       "  </thead>\n",
       "  <tbody>\n",
       "    <tr>\n",
       "      <th>No</th>\n",
       "      <td>532</td>\n",
       "    </tr>\n",
       "    <tr>\n",
       "      <th>Yes</th>\n",
       "      <td>82</td>\n",
       "    </tr>\n",
       "  </tbody>\n",
       "</table>\n",
       "</div>"
      ],
      "text/plain": [
       "               Self_Employed\n",
       "Self_Employed               \n",
       "No                       532\n",
       "Yes                       82"
      ]
     },
     "execution_count": 10,
     "metadata": {},
     "output_type": "execute_result"
    }
   ],
   "source": [
    "mod_ld[\"Self_Employed\"].fillna(\"No\", inplace=True)\n",
    "mod_ld.groupby([\"Self_Employed\"]).agg({'Self_Employed':'count'})"
   ]
  },
  {
   "cell_type": "markdown",
   "id": "3a57bfa6",
   "metadata": {},
   "source": [
    "LoanAmount, Credit_History, and Loan_Amount_Term are both very important to what we are trying to assess, so the data that is missing shall be cut from the dataframe."
   ]
  },
  {
   "cell_type": "markdown",
   "id": "00664a93",
   "metadata": {},
   "source": [
    "## Outliers"
   ]
  },
  {
   "cell_type": "markdown",
   "id": "41d68b7c",
   "metadata": {},
   "source": [
    "Check for outliers.  Do we keep them or do we drop them?  Why? \n",
    "Provide written justification explaining why you decided to keep or drop outliers."
   ]
  },
  {
   "cell_type": "code",
   "execution_count": null,
   "id": "f7a7c292",
   "metadata": {},
   "outputs": [],
   "source": []
  },
  {
   "cell_type": "markdown",
   "id": "50928732",
   "metadata": {},
   "source": [
    "## Discretizing"
   ]
  },
  {
   "cell_type": "markdown",
   "id": "dbf3ba7d",
   "metadata": {},
   "source": [
    "Discretize the following columns and explain why you chose particular discrete categories/ranges for the values\n",
    "ApplicantIncome\n",
    "CoapplicantIncome\n",
    "LoanAmount\n",
    "Loan_Amount_Term\n"
   ]
  },
  {
   "cell_type": "code",
   "execution_count": null,
   "id": "b0a442bb",
   "metadata": {},
   "outputs": [],
   "source": []
  },
  {
   "cell_type": "markdown",
   "id": "ceccbdff",
   "metadata": {},
   "source": [
    "## Determine Predictors"
   ]
  },
  {
   "cell_type": "markdown",
   "id": "a970251b",
   "metadata": {},
   "source": [
    "Think about which features make sense as predictors.  DO NOT use all features as predictors in your model.  \n",
    "Provide a written justification explaining why you selected certain features and excluded others\n"
   ]
  },
  {
   "cell_type": "markdown",
   "id": "1a1994d1",
   "metadata": {},
   "source": [
    "For categorical columns (after you’ve dealt with missing values and after you have reduced the number of categories) make sure to LabelEncode your values\n"
   ]
  },
  {
   "cell_type": "code",
   "execution_count": null,
   "id": "a1b71d82",
   "metadata": {},
   "outputs": [],
   "source": []
  },
  {
   "cell_type": "markdown",
   "id": "d593b52e",
   "metadata": {},
   "source": [
    "## Train Model"
   ]
  },
  {
   "cell_type": "markdown",
   "id": "7234d2e1",
   "metadata": {},
   "source": [
    "Train and evaluate three classification models, using any combination of Naive Bayes, SVM, KNN, LogisticRegression, DecisionTree, or RandomForest algorithms.  Your models must predict the Loan_Status.\n",
    "Justify why you selected a particular algorithm based on your review of the data and based on the strengths and weaknesses of each of the algorithms discussed in the class and presented in the slides\n"
   ]
  },
  {
   "cell_type": "code",
   "execution_count": null,
   "id": "925cbc92",
   "metadata": {},
   "outputs": [],
   "source": []
  },
  {
   "cell_type": "markdown",
   "id": "9724912c",
   "metadata": {},
   "source": [
    "## Evaluate"
   ]
  },
  {
   "cell_type": "markdown",
   "id": "72defe37",
   "metadata": {},
   "source": [
    "Report each model’s accuracy score\n",
    "Report each model’s AUC score\n",
    "Compare accuracy for the three models and make a recommendation as to which model performed best\n"
   ]
  },
  {
   "cell_type": "code",
   "execution_count": null,
   "id": "c6da64e2",
   "metadata": {},
   "outputs": [],
   "source": []
  },
  {
   "cell_type": "markdown",
   "id": "384949b4",
   "metadata": {},
   "source": [
    "Experiment with counterfactuals - try to change inputs into your best model and see how it affect predictions.  Describe what factors seem to influence loan approvals the most based on your counterfactuals observations.\n",
    "Write a paragraph (as markdown) explaining whether or not your best  model is “good” and why\n"
   ]
  },
  {
   "cell_type": "code",
   "execution_count": null,
   "id": "c224ebab",
   "metadata": {},
   "outputs": [],
   "source": []
  }
 ],
 "metadata": {
  "kernelspec": {
   "display_name": "Python 3 (ipykernel)",
   "language": "python",
   "name": "python3"
  },
  "language_info": {
   "codemirror_mode": {
    "name": "ipython",
    "version": 3
   },
   "file_extension": ".py",
   "mimetype": "text/x-python",
   "name": "python",
   "nbconvert_exporter": "python",
   "pygments_lexer": "ipython3",
   "version": "3.9.12"
  }
 },
 "nbformat": 4,
 "nbformat_minor": 5
}
