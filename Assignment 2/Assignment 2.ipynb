{
 "cells": [
  {
   "cell_type": "markdown",
   "id": "440317c1",
   "metadata": {},
   "source": [
    "# Tasks"
   ]
  },
  {
   "cell_type": "markdown",
   "id": "f76ef512",
   "metadata": {},
   "source": [
    "Using the data in this dataset, you will need to train a linear regression model use a combination of house age, distance to the nearest MRT station, and number of convenience stores to estimate house price of unit area.\n",
    "\n",
    "Below is a list of concrete tasks that you need to accomplish in your assignment\n",
    "\n",
    "Check for missing values.  If there are any missing values, deal with them appropriately.\n",
    "\n",
    "Provide written justification explaining why you selected particular methods for dealing with missing values\n",
    "\n",
    "Check for outliers (Hint: box plot).  Do we keep them or do we drop them?  Why? \n",
    "\n",
    "Provide written justification explaining why you decided to keep or drop outliers.\n",
    "\n",
    "Center and scale data as needed\n",
    "\n",
    "Generate a density plot for every field that contains continuous data \n",
    "\n",
    "Review distributions\n",
    "\n",
    "Chose centering and scaling approach\n",
    "\n",
    "Provide written justification explaining why you needed (or did not need) to center and/or scale the data.\n",
    "\n",
    "Transform data as needed\n",
    "\n",
    "Choose transformation approach\n",
    "\n",
    "Provide written justification explaining why you needed (or did not need) to transform the data\n",
    "\n",
    "If there are columns that contain discrete variables, convert them to dummy variables\n",
    "\n",
    "Create and train a linear regression model that estimates the house price of unit area\n",
    "\n",
    "Evaluate your model using the R2 score, adjusted R2 score, and RSME score.  \n",
    "\n",
    "Provide written explanations of what those scores mean in the context of your problem \n",
    "\n",
    "Play with predictors - will adding or removing predictors improve your model’s accuracy?  Build three models with three different sets of parameters to compare the results. \n",
    "\n",
    "Write a paragraph explaining whether or not your BEST model is “good” and why\n"
   ]
  },
  {
   "cell_type": "markdown",
   "id": "4987cb84",
   "metadata": {},
   "source": [
    "Import necessary introduction files"
   ]
  },
  {
   "cell_type": "code",
   "execution_count": 1,
   "id": "a065dc7e",
   "metadata": {},
   "outputs": [],
   "source": [
    "import pandas as pd\n",
    "import numpy as np"
   ]
  },
  {
   "cell_type": "markdown",
   "id": "e9bb1aea",
   "metadata": {},
   "source": [
    "create and verify file"
   ]
  },
  {
   "cell_type": "code",
   "execution_count": 2,
   "id": "e91db852",
   "metadata": {},
   "outputs": [
    {
     "data": {
      "text/html": [
       "<div>\n",
       "<style scoped>\n",
       "    .dataframe tbody tr th:only-of-type {\n",
       "        vertical-align: middle;\n",
       "    }\n",
       "\n",
       "    .dataframe tbody tr th {\n",
       "        vertical-align: top;\n",
       "    }\n",
       "\n",
       "    .dataframe thead th {\n",
       "        text-align: right;\n",
       "    }\n",
       "</style>\n",
       "<table border=\"1\" class=\"dataframe\">\n",
       "  <thead>\n",
       "    <tr style=\"text-align: right;\">\n",
       "      <th></th>\n",
       "      <th>No</th>\n",
       "      <th>X1 transaction date</th>\n",
       "      <th>X2 house age</th>\n",
       "      <th>X3 distance to the nearest MRT station</th>\n",
       "      <th>X4 number of convenience stores</th>\n",
       "      <th>X5 latitude</th>\n",
       "      <th>X6 longitude</th>\n",
       "      <th>Y house price of unit area</th>\n",
       "    </tr>\n",
       "  </thead>\n",
       "  <tbody>\n",
       "    <tr>\n",
       "      <th>0</th>\n",
       "      <td>1</td>\n",
       "      <td>2012.917</td>\n",
       "      <td>32.0</td>\n",
       "      <td>84.87882</td>\n",
       "      <td>10</td>\n",
       "      <td>24.98298</td>\n",
       "      <td>121.54024</td>\n",
       "      <td>37.9</td>\n",
       "    </tr>\n",
       "    <tr>\n",
       "      <th>1</th>\n",
       "      <td>2</td>\n",
       "      <td>2012.917</td>\n",
       "      <td>19.5</td>\n",
       "      <td>306.59470</td>\n",
       "      <td>9</td>\n",
       "      <td>24.98034</td>\n",
       "      <td>121.53951</td>\n",
       "      <td>42.2</td>\n",
       "    </tr>\n",
       "    <tr>\n",
       "      <th>2</th>\n",
       "      <td>3</td>\n",
       "      <td>2013.583</td>\n",
       "      <td>13.3</td>\n",
       "      <td>561.98450</td>\n",
       "      <td>5</td>\n",
       "      <td>24.98746</td>\n",
       "      <td>121.54391</td>\n",
       "      <td>47.3</td>\n",
       "    </tr>\n",
       "    <tr>\n",
       "      <th>3</th>\n",
       "      <td>4</td>\n",
       "      <td>2013.500</td>\n",
       "      <td>13.3</td>\n",
       "      <td>561.98450</td>\n",
       "      <td>5</td>\n",
       "      <td>24.98746</td>\n",
       "      <td>121.54391</td>\n",
       "      <td>54.8</td>\n",
       "    </tr>\n",
       "    <tr>\n",
       "      <th>4</th>\n",
       "      <td>5</td>\n",
       "      <td>2012.833</td>\n",
       "      <td>5.0</td>\n",
       "      <td>390.56840</td>\n",
       "      <td>5</td>\n",
       "      <td>24.97937</td>\n",
       "      <td>121.54245</td>\n",
       "      <td>43.1</td>\n",
       "    </tr>\n",
       "  </tbody>\n",
       "</table>\n",
       "</div>"
      ],
      "text/plain": [
       "   No  X1 transaction date  X2 house age  \\\n",
       "0   1             2012.917          32.0   \n",
       "1   2             2012.917          19.5   \n",
       "2   3             2013.583          13.3   \n",
       "3   4             2013.500          13.3   \n",
       "4   5             2012.833           5.0   \n",
       "\n",
       "   X3 distance to the nearest MRT station  X4 number of convenience stores  \\\n",
       "0                                84.87882                               10   \n",
       "1                               306.59470                                9   \n",
       "2                               561.98450                                5   \n",
       "3                               561.98450                                5   \n",
       "4                               390.56840                                5   \n",
       "\n",
       "   X5 latitude  X6 longitude  Y house price of unit area  \n",
       "0     24.98298     121.54024                        37.9  \n",
       "1     24.98034     121.53951                        42.2  \n",
       "2     24.98746     121.54391                        47.3  \n",
       "3     24.98746     121.54391                        54.8  \n",
       "4     24.97937     121.54245                        43.1  "
      ]
     },
     "execution_count": 2,
     "metadata": {},
     "output_type": "execute_result"
    }
   ],
   "source": [
    "re = pd.read_csv(\"real_estate.csv\")\n",
    "re.head()"
   ]
  },
  {
   "cell_type": "code",
   "execution_count": 3,
   "id": "6e8136e2",
   "metadata": {},
   "outputs": [
    {
     "data": {
      "text/html": [
       "<div>\n",
       "<style scoped>\n",
       "    .dataframe tbody tr th:only-of-type {\n",
       "        vertical-align: middle;\n",
       "    }\n",
       "\n",
       "    .dataframe tbody tr th {\n",
       "        vertical-align: top;\n",
       "    }\n",
       "\n",
       "    .dataframe thead th {\n",
       "        text-align: right;\n",
       "    }\n",
       "</style>\n",
       "<table border=\"1\" class=\"dataframe\">\n",
       "  <thead>\n",
       "    <tr style=\"text-align: right;\">\n",
       "      <th></th>\n",
       "      <th>No</th>\n",
       "      <th>t.date</th>\n",
       "      <th>age</th>\n",
       "      <th>MRT.dist</th>\n",
       "      <th>conv.store</th>\n",
       "      <th>lat</th>\n",
       "      <th>long</th>\n",
       "      <th>POUA</th>\n",
       "    </tr>\n",
       "  </thead>\n",
       "  <tbody>\n",
       "    <tr>\n",
       "      <th>0</th>\n",
       "      <td>1</td>\n",
       "      <td>2012.917</td>\n",
       "      <td>32.0</td>\n",
       "      <td>84.87882</td>\n",
       "      <td>10</td>\n",
       "      <td>24.98298</td>\n",
       "      <td>121.54024</td>\n",
       "      <td>37.9</td>\n",
       "    </tr>\n",
       "    <tr>\n",
       "      <th>1</th>\n",
       "      <td>2</td>\n",
       "      <td>2012.917</td>\n",
       "      <td>19.5</td>\n",
       "      <td>306.59470</td>\n",
       "      <td>9</td>\n",
       "      <td>24.98034</td>\n",
       "      <td>121.53951</td>\n",
       "      <td>42.2</td>\n",
       "    </tr>\n",
       "    <tr>\n",
       "      <th>2</th>\n",
       "      <td>3</td>\n",
       "      <td>2013.583</td>\n",
       "      <td>13.3</td>\n",
       "      <td>561.98450</td>\n",
       "      <td>5</td>\n",
       "      <td>24.98746</td>\n",
       "      <td>121.54391</td>\n",
       "      <td>47.3</td>\n",
       "    </tr>\n",
       "    <tr>\n",
       "      <th>3</th>\n",
       "      <td>4</td>\n",
       "      <td>2013.500</td>\n",
       "      <td>13.3</td>\n",
       "      <td>561.98450</td>\n",
       "      <td>5</td>\n",
       "      <td>24.98746</td>\n",
       "      <td>121.54391</td>\n",
       "      <td>54.8</td>\n",
       "    </tr>\n",
       "    <tr>\n",
       "      <th>4</th>\n",
       "      <td>5</td>\n",
       "      <td>2012.833</td>\n",
       "      <td>5.0</td>\n",
       "      <td>390.56840</td>\n",
       "      <td>5</td>\n",
       "      <td>24.97937</td>\n",
       "      <td>121.54245</td>\n",
       "      <td>43.1</td>\n",
       "    </tr>\n",
       "  </tbody>\n",
       "</table>\n",
       "</div>"
      ],
      "text/plain": [
       "   No    t.date   age   MRT.dist  conv.store       lat       long  POUA\n",
       "0   1  2012.917  32.0   84.87882          10  24.98298  121.54024  37.9\n",
       "1   2  2012.917  19.5  306.59470           9  24.98034  121.53951  42.2\n",
       "2   3  2013.583  13.3  561.98450           5  24.98746  121.54391  47.3\n",
       "3   4  2013.500  13.3  561.98450           5  24.98746  121.54391  54.8\n",
       "4   5  2012.833   5.0  390.56840           5  24.97937  121.54245  43.1"
      ]
     },
     "execution_count": 3,
     "metadata": {},
     "output_type": "execute_result"
    }
   ],
   "source": [
    "#renaming the columns to make later code cleaner\n",
    "re = re.rename(columns={\"X1 transaction date\":\"t.date\", \"X2 house age\": \"age\", \"X3 distance to the nearest MRT station\": \"MRT.dist\", \"X4 number of convenience stores\": \"conv.store\", \"X5 latitude\": \"lat\", \"X6 longitude\":\"long\", \"Y house price of unit area\":\"POUA\"}, errors=\"raise\")\n",
    "re.head()"
   ]
  },
  {
   "cell_type": "markdown",
   "id": "18113847",
   "metadata": {},
   "source": [
    "# Check for missing values.  If there are any missing values, deal with them appropriately.\n",
    "\n",
    "Provide written justification explaining why you selected particular methods for dealing with missing values\n"
   ]
  },
  {
   "cell_type": "code",
   "execution_count": 4,
   "id": "afb2dffc",
   "metadata": {},
   "outputs": [
    {
     "data": {
      "text/plain": [
       "No            0\n",
       "t.date        0\n",
       "age           0\n",
       "MRT.dist      0\n",
       "conv.store    0\n",
       "lat           0\n",
       "long          0\n",
       "POUA          0\n",
       "dtype: int64"
      ]
     },
     "execution_count": 4,
     "metadata": {},
     "output_type": "execute_result"
    }
   ],
   "source": [
    "re.isnull().sum()"
   ]
  },
  {
   "cell_type": "markdown",
   "id": "ea45efd6",
   "metadata": {},
   "source": [
    "The summary above shows that there are no cells with missing values, therefore there is nothing I should do in order to deal with them."
   ]
  },
  {
   "cell_type": "markdown",
   "id": "8ba239b2",
   "metadata": {},
   "source": [
    "# Check for Outliers"
   ]
  },
  {
   "cell_type": "code",
   "execution_count": 5,
   "id": "9b963a54",
   "metadata": {},
   "outputs": [
    {
     "data": {
      "text/plain": [
       "<AxesSubplot:>"
      ]
     },
     "execution_count": 5,
     "metadata": {},
     "output_type": "execute_result"
    },
    {
     "data": {
      "image/png": "[encoded data removed]",
      "text/plain": [
       "<Figure size 432x288 with 1 Axes>"
      ]
     },
     "metadata": {
      "needs_background": "light"
     },
     "output_type": "display_data"
    }
   ],
   "source": [
    "import matplotlib.pyplot as plt\n",
    "%matplotlib inline\n",
    "re['POUA'].plot.box()"
   ]
  },
  {
   "cell_type": "markdown",
   "id": "95c240a0",
   "metadata": {},
   "source": [
    "there appear to only be outliers on the high end of the graph"
   ]
  },
  {
   "cell_type": "code",
   "execution_count": null,
   "id": "1f21a476",
   "metadata": {},
   "outputs": [],
   "source": []
  },
  {
   "cell_type": "code",
   "execution_count": 6,
   "id": "82722d0c",
   "metadata": {},
   "outputs": [
    {
     "data": {
      "text/plain": [
       "<AxesSubplot:>"
      ]
     },
     "execution_count": 6,
     "metadata": {},
     "output_type": "execute_result"
    },
    {
     "data": {
      "image/png": "[encoded data removed]",
      "text/plain": [
       "<Figure size 432x288 with 1 Axes>"
      ]
     },
     "metadata": {
      "needs_background": "light"
     },
     "output_type": "display_data"
    }
   ],
   "source": [
    "re['age'].plot.box()"
   ]
  },
  {
   "cell_type": "markdown",
   "id": "c0f85efd",
   "metadata": {},
   "source": [
    "no outliers. continue"
   ]
  },
  {
   "cell_type": "code",
   "execution_count": 7,
   "id": "f35f508e",
   "metadata": {},
   "outputs": [
    {
     "data": {
      "text/plain": [
       "<AxesSubplot:>"
      ]
     },
     "execution_count": 7,
     "metadata": {},
     "output_type": "execute_result"
    },
    {
     "data": {
      "image/png": "[encoded data removed]",
      "text/plain": [
       "<Figure size 432x288 with 1 Axes>"
      ]
     },
     "metadata": {
      "needs_background": "light"
     },
     "output_type": "display_data"
    }
   ],
   "source": [
    "re['MRT.dist'].plot.box()"
   ]
  },
  {
   "cell_type": "code",
   "execution_count": 8,
   "id": "aed4f8f3",
   "metadata": {},
   "outputs": [
    {
     "data": {
      "text/plain": [
       "<AxesSubplot:>"
      ]
     },
     "execution_count": 8,
     "metadata": {},
     "output_type": "execute_result"
    },
    {
     "data": {
      "image/png": "[encoded data removed]",
      "text/plain": [
       "<Figure size 432x288 with 1 Axes>"
      ]
     },
     "metadata": {
      "needs_background": "light"
     },
     "output_type": "display_data"
    }
   ],
   "source": [
    "re['lat'].plot.box()"
   ]
  },
  {
   "cell_type": "code",
   "execution_count": 9,
   "id": "0a11c220",
   "metadata": {},
   "outputs": [
    {
     "data": {
      "text/plain": [
       "<AxesSubplot:>"
      ]
     },
     "execution_count": 9,
     "metadata": {},
     "output_type": "execute_result"
    },
    {
     "data": {
      "image/png": "[encoded data removed]",
      "text/plain": [
       "<Figure size 432x288 with 1 Axes>"
      ]
     },
     "metadata": {
      "needs_background": "light"
     },
     "output_type": "display_data"
    }
   ],
   "source": [
    "re['long'].plot.box()"
   ]
  },
  {
   "cell_type": "code",
   "execution_count": 10,
   "id": "ae84e6ad",
   "metadata": {},
   "outputs": [
    {
     "data": {
      "text/plain": [
       "<AxesSubplot:>"
      ]
     },
     "execution_count": 10,
     "metadata": {},
     "output_type": "execute_result"
    },
    {
     "data": {
      "image/png": "[encoded data removed]",
      "text/plain": [
       "<Figure size 432x288 with 1 Axes>"
      ]
     },
     "metadata": {
      "needs_background": "light"
     },
     "output_type": "display_data"
    }
   ],
   "source": [
    "re['conv.store'].plot.box()"
   ]
  },
  {
   "cell_type": "markdown",
   "id": "0ac65aaa",
   "metadata": {},
   "source": [
    "no outliers. continue"
   ]
  },
  {
   "cell_type": "code",
   "execution_count": null,
   "id": "6351d7ed",
   "metadata": {},
   "outputs": [],
   "source": []
  }
 ],
 "metadata": {
  "kernelspec": {
   "display_name": "Python 3 (ipykernel)",
   "language": "python",
   "name": "python3"
  },
  "language_info": {
   "codemirror_mode": {
    "name": "ipython",
    "version": 3
   },
   "file_extension": ".py",
   "mimetype": "text/x-python",
   "name": "python",
   "nbconvert_exporter": "python",
   "pygments_lexer": "ipython3",
   "version": "3.9.12"
  }
 },
 "nbformat": 4,
 "nbformat_minor": 5
}
