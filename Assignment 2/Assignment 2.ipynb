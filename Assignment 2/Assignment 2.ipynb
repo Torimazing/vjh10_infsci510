{
 "cells": [
  {
   "cell_type": "markdown",
   "id": "440317c1",
   "metadata": {},
   "source": [
    "# Tasks"
   ]
  },
  {
   "cell_type": "markdown",
   "id": "f76ef512",
   "metadata": {},
   "source": [
    "Using the data in this dataset, you will need to train a linear regression model use a combination of house age, distance to the nearest MRT station, and number of convenience stores to estimate house price of unit area.\n",
    "\n",
    "Below is a list of concrete tasks that you need to accomplish in your assignment\n",
    "\n",
    "Check for missing values.  If there are any missing values, deal with them appropriately.\n",
    "\n",
    "Provide written justification explaining why you selected particular methods for dealing with missing values\n",
    "\n",
    "Check for outliers (Hint: box plot).  Do we keep them or do we drop them?  Why? \n",
    "\n",
    "Provide written justification explaining why you decided to keep or drop outliers.\n",
    "\n",
    "Center and scale data as needed\n",
    "\n",
    "Generate a density plot for every field that contains continuous data \n",
    "\n",
    "Review distributions\n",
    "\n",
    "Chose centering and scaling approach\n",
    "\n",
    "Provide written justification explaining why you needed (or did not need) to center and/or scale the data.\n",
    "\n",
    "Transform data as needed\n",
    "\n",
    "Choose transformation approach\n",
    "\n",
    "Provide written justification explaining why you needed (or did not need) to transform the data\n",
    "\n",
    "If there are columns that contain discrete variables, convert them to dummy variables\n",
    "\n",
    "Create and train a linear regression model that estimates the house price of unit area\n",
    "\n",
    "Evaluate your model using the R2 score, adjusted R2 score, and RSME score.  \n",
    "\n",
    "Provide written explanations of what those scores mean in the context of your problem \n",
    "\n",
    "Play with predictors - will adding or removing predictors improve your model’s accuracy?  Build three models with three different sets of parameters to compare the results. \n",
    "\n",
    "Write a paragraph explaining whether or not your BEST model is “good” and why\n"
   ]
  },
  {
   "cell_type": "markdown",
   "id": "4987cb84",
   "metadata": {},
   "source": [
    "Import necessary introduction files"
   ]
  },
  {
   "cell_type": "code",
   "execution_count": 1,
   "id": "a065dc7e",
   "metadata": {},
   "outputs": [],
   "source": [
    "import pandas as pd\n",
    "import numpy as np"
   ]
  },
  {
   "cell_type": "markdown",
   "id": "e9bb1aea",
   "metadata": {},
   "source": [
    "create and verify file"
   ]
  },
  {
   "cell_type": "code",
   "execution_count": 2,
   "id": "e91db852",
   "metadata": {},
   "outputs": [
    {
     "data": {
      "text/html": [
       "<div>\n",
       "<style scoped>\n",
       "    .dataframe tbody tr th:only-of-type {\n",
       "        vertical-align: middle;\n",
       "    }\n",
       "\n",
       "    .dataframe tbody tr th {\n",
       "        vertical-align: top;\n",
       "    }\n",
       "\n",
       "    .dataframe thead th {\n",
       "        text-align: right;\n",
       "    }\n",
       "</style>\n",
       "<table border=\"1\" class=\"dataframe\">\n",
       "  <thead>\n",
       "    <tr style=\"text-align: right;\">\n",
       "      <th></th>\n",
       "      <th>No</th>\n",
       "      <th>X1 transaction date</th>\n",
       "      <th>X2 house age</th>\n",
       "      <th>X3 distance to the nearest MRT station</th>\n",
       "      <th>X4 number of convenience stores</th>\n",
       "      <th>X5 latitude</th>\n",
       "      <th>X6 longitude</th>\n",
       "      <th>Y house price of unit area</th>\n",
       "    </tr>\n",
       "  </thead>\n",
       "  <tbody>\n",
       "    <tr>\n",
       "      <th>0</th>\n",
       "      <td>1</td>\n",
       "      <td>2012.917</td>\n",
       "      <td>32.0</td>\n",
       "      <td>84.87882</td>\n",
       "      <td>10</td>\n",
       "      <td>24.98298</td>\n",
       "      <td>121.54024</td>\n",
       "      <td>37.9</td>\n",
       "    </tr>\n",
       "    <tr>\n",
       "      <th>1</th>\n",
       "      <td>2</td>\n",
       "      <td>2012.917</td>\n",
       "      <td>19.5</td>\n",
       "      <td>306.59470</td>\n",
       "      <td>9</td>\n",
       "      <td>24.98034</td>\n",
       "      <td>121.53951</td>\n",
       "      <td>42.2</td>\n",
       "    </tr>\n",
       "    <tr>\n",
       "      <th>2</th>\n",
       "      <td>3</td>\n",
       "      <td>2013.583</td>\n",
       "      <td>13.3</td>\n",
       "      <td>561.98450</td>\n",
       "      <td>5</td>\n",
       "      <td>24.98746</td>\n",
       "      <td>121.54391</td>\n",
       "      <td>47.3</td>\n",
       "    </tr>\n",
       "    <tr>\n",
       "      <th>3</th>\n",
       "      <td>4</td>\n",
       "      <td>2013.500</td>\n",
       "      <td>13.3</td>\n",
       "      <td>561.98450</td>\n",
       "      <td>5</td>\n",
       "      <td>24.98746</td>\n",
       "      <td>121.54391</td>\n",
       "      <td>54.8</td>\n",
       "    </tr>\n",
       "    <tr>\n",
       "      <th>4</th>\n",
       "      <td>5</td>\n",
       "      <td>2012.833</td>\n",
       "      <td>5.0</td>\n",
       "      <td>390.56840</td>\n",
       "      <td>5</td>\n",
       "      <td>24.97937</td>\n",
       "      <td>121.54245</td>\n",
       "      <td>43.1</td>\n",
       "    </tr>\n",
       "  </tbody>\n",
       "</table>\n",
       "</div>"
      ],
      "text/plain": [
       "   No  X1 transaction date  X2 house age  \\\n",
       "0   1             2012.917          32.0   \n",
       "1   2             2012.917          19.5   \n",
       "2   3             2013.583          13.3   \n",
       "3   4             2013.500          13.3   \n",
       "4   5             2012.833           5.0   \n",
       "\n",
       "   X3 distance to the nearest MRT station  X4 number of convenience stores  \\\n",
       "0                                84.87882                               10   \n",
       "1                               306.59470                                9   \n",
       "2                               561.98450                                5   \n",
       "3                               561.98450                                5   \n",
       "4                               390.56840                                5   \n",
       "\n",
       "   X5 latitude  X6 longitude  Y house price of unit area  \n",
       "0     24.98298     121.54024                        37.9  \n",
       "1     24.98034     121.53951                        42.2  \n",
       "2     24.98746     121.54391                        47.3  \n",
       "3     24.98746     121.54391                        54.8  \n",
       "4     24.97937     121.54245                        43.1  "
      ]
     },
     "execution_count": 2,
     "metadata": {},
     "output_type": "execute_result"
    }
   ],
   "source": [
    "re = pd.read_csv(\"real_estate.csv\")\n",
    "re.head()"
   ]
  },
  {
   "cell_type": "code",
   "execution_count": 3,
   "id": "6e8136e2",
   "metadata": {},
   "outputs": [
    {
     "data": {
      "text/html": [
       "<div>\n",
       "<style scoped>\n",
       "    .dataframe tbody tr th:only-of-type {\n",
       "        vertical-align: middle;\n",
       "    }\n",
       "\n",
       "    .dataframe tbody tr th {\n",
       "        vertical-align: top;\n",
       "    }\n",
       "\n",
       "    .dataframe thead th {\n",
       "        text-align: right;\n",
       "    }\n",
       "</style>\n",
       "<table border=\"1\" class=\"dataframe\">\n",
       "  <thead>\n",
       "    <tr style=\"text-align: right;\">\n",
       "      <th></th>\n",
       "      <th>No</th>\n",
       "      <th>t.date</th>\n",
       "      <th>age</th>\n",
       "      <th>MRT.dist</th>\n",
       "      <th>conv.store</th>\n",
       "      <th>lat</th>\n",
       "      <th>long</th>\n",
       "      <th>POUA</th>\n",
       "    </tr>\n",
       "  </thead>\n",
       "  <tbody>\n",
       "    <tr>\n",
       "      <th>0</th>\n",
       "      <td>1</td>\n",
       "      <td>2012.917</td>\n",
       "      <td>32.0</td>\n",
       "      <td>84.87882</td>\n",
       "      <td>10</td>\n",
       "      <td>24.98298</td>\n",
       "      <td>121.54024</td>\n",
       "      <td>37.9</td>\n",
       "    </tr>\n",
       "    <tr>\n",
       "      <th>1</th>\n",
       "      <td>2</td>\n",
       "      <td>2012.917</td>\n",
       "      <td>19.5</td>\n",
       "      <td>306.59470</td>\n",
       "      <td>9</td>\n",
       "      <td>24.98034</td>\n",
       "      <td>121.53951</td>\n",
       "      <td>42.2</td>\n",
       "    </tr>\n",
       "    <tr>\n",
       "      <th>2</th>\n",
       "      <td>3</td>\n",
       "      <td>2013.583</td>\n",
       "      <td>13.3</td>\n",
       "      <td>561.98450</td>\n",
       "      <td>5</td>\n",
       "      <td>24.98746</td>\n",
       "      <td>121.54391</td>\n",
       "      <td>47.3</td>\n",
       "    </tr>\n",
       "    <tr>\n",
       "      <th>3</th>\n",
       "      <td>4</td>\n",
       "      <td>2013.500</td>\n",
       "      <td>13.3</td>\n",
       "      <td>561.98450</td>\n",
       "      <td>5</td>\n",
       "      <td>24.98746</td>\n",
       "      <td>121.54391</td>\n",
       "      <td>54.8</td>\n",
       "    </tr>\n",
       "    <tr>\n",
       "      <th>4</th>\n",
       "      <td>5</td>\n",
       "      <td>2012.833</td>\n",
       "      <td>5.0</td>\n",
       "      <td>390.56840</td>\n",
       "      <td>5</td>\n",
       "      <td>24.97937</td>\n",
       "      <td>121.54245</td>\n",
       "      <td>43.1</td>\n",
       "    </tr>\n",
       "  </tbody>\n",
       "</table>\n",
       "</div>"
      ],
      "text/plain": [
       "   No    t.date   age   MRT.dist  conv.store       lat       long  POUA\n",
       "0   1  2012.917  32.0   84.87882          10  24.98298  121.54024  37.9\n",
       "1   2  2012.917  19.5  306.59470           9  24.98034  121.53951  42.2\n",
       "2   3  2013.583  13.3  561.98450           5  24.98746  121.54391  47.3\n",
       "3   4  2013.500  13.3  561.98450           5  24.98746  121.54391  54.8\n",
       "4   5  2012.833   5.0  390.56840           5  24.97937  121.54245  43.1"
      ]
     },
     "execution_count": 3,
     "metadata": {},
     "output_type": "execute_result"
    }
   ],
   "source": [
    "#renaming the columns to make later code cleaner\n",
    "re = re.rename(columns={\"X1 transaction date\":\"t.date\", \"X2 house age\": \"age\", \"X3 distance to the nearest MRT station\": \"MRT.dist\", \"X4 number of convenience stores\": \"conv.store\", \"X5 latitude\": \"lat\", \"X6 longitude\":\"long\", \"Y house price of unit area\":\"POUA\"}, errors=\"raise\")\n",
    "re.head()"
   ]
  },
  {
   "cell_type": "markdown",
   "id": "18113847",
   "metadata": {},
   "source": [
    "## Check for missing values.  If there are any missing values, deal with them appropriately.\n",
    "\n",
    "Provide written justification explaining why you selected particular methods for dealing with missing values\n"
   ]
  },
  {
   "cell_type": "code",
   "execution_count": 4,
   "id": "afb2dffc",
   "metadata": {},
   "outputs": [
    {
     "data": {
      "text/plain": [
       "No            0\n",
       "t.date        0\n",
       "age           0\n",
       "MRT.dist      0\n",
       "conv.store    0\n",
       "lat           0\n",
       "long          0\n",
       "POUA          0\n",
       "dtype: int64"
      ]
     },
     "execution_count": 4,
     "metadata": {},
     "output_type": "execute_result"
    }
   ],
   "source": [
    "re.isnull().sum()"
   ]
  },
  {
   "cell_type": "markdown",
   "id": "ea45efd6",
   "metadata": {},
   "source": [
    "The summary above shows that there are no cells with missing values, therefore there is nothing I should do in order to deal with them."
   ]
  },
  {
   "cell_type": "markdown",
   "id": "8ba239b2",
   "metadata": {},
   "source": [
    "## Check for Outliers"
   ]
  },
  {
   "cell_type": "code",
   "execution_count": 5,
   "id": "9b963a54",
   "metadata": {},
   "outputs": [
    {
     "data": {
      "text/plain": [
       "<AxesSubplot:>"
      ]
     },
     "execution_count": 5,
     "metadata": {},
     "output_type": "execute_result"
    },
    {
     "data": {
      "image/png": "[encoded data removed]",
      "text/plain": [
       "<Figure size 432x288 with 1 Axes>"
      ]
     },
     "metadata": {
      "needs_background": "light"
     },
     "output_type": "display_data"
    }
   ],
   "source": [
    "import matplotlib.pyplot as plt\n",
    "%matplotlib inline\n",
    "re['POUA'].plot.box()"
   ]
  },
  {
   "cell_type": "markdown",
   "id": "95c240a0",
   "metadata": {},
   "source": [
    "there appears to only be outliers on the high end of the graph, lets look at the exact data, to see if there is an obvious incorrect input"
   ]
  },
  {
   "cell_type": "code",
   "execution_count": 6,
   "id": "1f21a476",
   "metadata": {},
   "outputs": [
    {
     "data": {
      "text/html": [
       "<div>\n",
       "<style scoped>\n",
       "    .dataframe tbody tr th:only-of-type {\n",
       "        vertical-align: middle;\n",
       "    }\n",
       "\n",
       "    .dataframe tbody tr th {\n",
       "        vertical-align: top;\n",
       "    }\n",
       "\n",
       "    .dataframe thead th {\n",
       "        text-align: right;\n",
       "    }\n",
       "</style>\n",
       "<table border=\"1\" class=\"dataframe\">\n",
       "  <thead>\n",
       "    <tr style=\"text-align: right;\">\n",
       "      <th></th>\n",
       "      <th>No</th>\n",
       "      <th>t.date</th>\n",
       "      <th>age</th>\n",
       "      <th>MRT.dist</th>\n",
       "      <th>conv.store</th>\n",
       "      <th>lat</th>\n",
       "      <th>long</th>\n",
       "      <th>POUA</th>\n",
       "    </tr>\n",
       "  </thead>\n",
       "  <tbody>\n",
       "    <tr>\n",
       "      <th>119</th>\n",
       "      <td>120</td>\n",
       "      <td>2013.500</td>\n",
       "      <td>16.6</td>\n",
       "      <td>289.32480</td>\n",
       "      <td>5</td>\n",
       "      <td>24.98203</td>\n",
       "      <td>121.54348</td>\n",
       "      <td>59.6</td>\n",
       "    </tr>\n",
       "    <tr>\n",
       "      <th>355</th>\n",
       "      <td>356</td>\n",
       "      <td>2013.250</td>\n",
       "      <td>3.8</td>\n",
       "      <td>383.86240</td>\n",
       "      <td>5</td>\n",
       "      <td>24.98085</td>\n",
       "      <td>121.54391</td>\n",
       "      <td>60.7</td>\n",
       "    </tr>\n",
       "    <tr>\n",
       "      <th>128</th>\n",
       "      <td>129</td>\n",
       "      <td>2013.083</td>\n",
       "      <td>41.3</td>\n",
       "      <td>124.99120</td>\n",
       "      <td>6</td>\n",
       "      <td>24.96674</td>\n",
       "      <td>121.54039</td>\n",
       "      <td>60.7</td>\n",
       "    </tr>\n",
       "    <tr>\n",
       "      <th>47</th>\n",
       "      <td>48</td>\n",
       "      <td>2013.583</td>\n",
       "      <td>35.9</td>\n",
       "      <td>640.73910</td>\n",
       "      <td>3</td>\n",
       "      <td>24.97563</td>\n",
       "      <td>121.53715</td>\n",
       "      <td>61.5</td>\n",
       "    </tr>\n",
       "    <tr>\n",
       "      <th>236</th>\n",
       "      <td>237</td>\n",
       "      <td>2013.167</td>\n",
       "      <td>3.6</td>\n",
       "      <td>373.83890</td>\n",
       "      <td>10</td>\n",
       "      <td>24.98322</td>\n",
       "      <td>121.53765</td>\n",
       "      <td>61.9</td>\n",
       "    </tr>\n",
       "    <tr>\n",
       "      <th>326</th>\n",
       "      <td>327</td>\n",
       "      <td>2013.500</td>\n",
       "      <td>4.1</td>\n",
       "      <td>56.47425</td>\n",
       "      <td>7</td>\n",
       "      <td>24.95744</td>\n",
       "      <td>121.53711</td>\n",
       "      <td>62.1</td>\n",
       "    </tr>\n",
       "    <tr>\n",
       "      <th>99</th>\n",
       "      <td>100</td>\n",
       "      <td>2013.417</td>\n",
       "      <td>6.4</td>\n",
       "      <td>90.45606</td>\n",
       "      <td>9</td>\n",
       "      <td>24.97433</td>\n",
       "      <td>121.54310</td>\n",
       "      <td>62.2</td>\n",
       "    </tr>\n",
       "    <tr>\n",
       "      <th>126</th>\n",
       "      <td>127</td>\n",
       "      <td>2013.083</td>\n",
       "      <td>38.6</td>\n",
       "      <td>804.68970</td>\n",
       "      <td>4</td>\n",
       "      <td>24.97838</td>\n",
       "      <td>121.53477</td>\n",
       "      <td>62.9</td>\n",
       "    </tr>\n",
       "    <tr>\n",
       "      <th>61</th>\n",
       "      <td>62</td>\n",
       "      <td>2013.500</td>\n",
       "      <td>5.3</td>\n",
       "      <td>259.66070</td>\n",
       "      <td>6</td>\n",
       "      <td>24.97585</td>\n",
       "      <td>121.54516</td>\n",
       "      <td>63.2</td>\n",
       "    </tr>\n",
       "    <tr>\n",
       "      <th>258</th>\n",
       "      <td>259</td>\n",
       "      <td>2013.417</td>\n",
       "      <td>0.0</td>\n",
       "      <td>292.99780</td>\n",
       "      <td>6</td>\n",
       "      <td>24.97744</td>\n",
       "      <td>121.54458</td>\n",
       "      <td>63.3</td>\n",
       "    </tr>\n",
       "    <tr>\n",
       "      <th>361</th>\n",
       "      <td>362</td>\n",
       "      <td>2013.083</td>\n",
       "      <td>41.4</td>\n",
       "      <td>281.20500</td>\n",
       "      <td>8</td>\n",
       "      <td>24.97345</td>\n",
       "      <td>121.54093</td>\n",
       "      <td>63.3</td>\n",
       "    </tr>\n",
       "    <tr>\n",
       "      <th>413</th>\n",
       "      <td>414</td>\n",
       "      <td>2013.500</td>\n",
       "      <td>6.5</td>\n",
       "      <td>90.45606</td>\n",
       "      <td>9</td>\n",
       "      <td>24.97433</td>\n",
       "      <td>121.54310</td>\n",
       "      <td>63.9</td>\n",
       "    </tr>\n",
       "    <tr>\n",
       "      <th>389</th>\n",
       "      <td>390</td>\n",
       "      <td>2013.250</td>\n",
       "      <td>40.9</td>\n",
       "      <td>122.36190</td>\n",
       "      <td>8</td>\n",
       "      <td>24.96756</td>\n",
       "      <td>121.54230</td>\n",
       "      <td>67.7</td>\n",
       "    </tr>\n",
       "    <tr>\n",
       "      <th>379</th>\n",
       "      <td>380</td>\n",
       "      <td>2013.333</td>\n",
       "      <td>0.0</td>\n",
       "      <td>292.99780</td>\n",
       "      <td>6</td>\n",
       "      <td>24.97744</td>\n",
       "      <td>121.54458</td>\n",
       "      <td>69.7</td>\n",
       "    </tr>\n",
       "    <tr>\n",
       "      <th>16</th>\n",
       "      <td>17</td>\n",
       "      <td>2013.250</td>\n",
       "      <td>0.0</td>\n",
       "      <td>292.99780</td>\n",
       "      <td>6</td>\n",
       "      <td>24.97744</td>\n",
       "      <td>121.54458</td>\n",
       "      <td>70.1</td>\n",
       "    </tr>\n",
       "    <tr>\n",
       "      <th>105</th>\n",
       "      <td>106</td>\n",
       "      <td>2012.833</td>\n",
       "      <td>0.0</td>\n",
       "      <td>292.99780</td>\n",
       "      <td>6</td>\n",
       "      <td>24.97744</td>\n",
       "      <td>121.54458</td>\n",
       "      <td>71.0</td>\n",
       "    </tr>\n",
       "    <tr>\n",
       "      <th>166</th>\n",
       "      <td>167</td>\n",
       "      <td>2013.417</td>\n",
       "      <td>0.0</td>\n",
       "      <td>292.99780</td>\n",
       "      <td>6</td>\n",
       "      <td>24.97744</td>\n",
       "      <td>121.54458</td>\n",
       "      <td>73.6</td>\n",
       "    </tr>\n",
       "    <tr>\n",
       "      <th>312</th>\n",
       "      <td>313</td>\n",
       "      <td>2013.583</td>\n",
       "      <td>35.4</td>\n",
       "      <td>318.52920</td>\n",
       "      <td>9</td>\n",
       "      <td>24.97071</td>\n",
       "      <td>121.54069</td>\n",
       "      <td>78.0</td>\n",
       "    </tr>\n",
       "    <tr>\n",
       "      <th>220</th>\n",
       "      <td>221</td>\n",
       "      <td>2013.333</td>\n",
       "      <td>37.2</td>\n",
       "      <td>186.51010</td>\n",
       "      <td>9</td>\n",
       "      <td>24.97703</td>\n",
       "      <td>121.54265</td>\n",
       "      <td>78.3</td>\n",
       "    </tr>\n",
       "    <tr>\n",
       "      <th>270</th>\n",
       "      <td>271</td>\n",
       "      <td>2013.333</td>\n",
       "      <td>10.8</td>\n",
       "      <td>252.58220</td>\n",
       "      <td>1</td>\n",
       "      <td>24.97460</td>\n",
       "      <td>121.53046</td>\n",
       "      <td>117.5</td>\n",
       "    </tr>\n",
       "  </tbody>\n",
       "</table>\n",
       "</div>"
      ],
      "text/plain": [
       "      No    t.date   age   MRT.dist  conv.store       lat       long   POUA\n",
       "119  120  2013.500  16.6  289.32480           5  24.98203  121.54348   59.6\n",
       "355  356  2013.250   3.8  383.86240           5  24.98085  121.54391   60.7\n",
       "128  129  2013.083  41.3  124.99120           6  24.96674  121.54039   60.7\n",
       "47    48  2013.583  35.9  640.73910           3  24.97563  121.53715   61.5\n",
       "236  237  2013.167   3.6  373.83890          10  24.98322  121.53765   61.9\n",
       "326  327  2013.500   4.1   56.47425           7  24.95744  121.53711   62.1\n",
       "99   100  2013.417   6.4   90.45606           9  24.97433  121.54310   62.2\n",
       "126  127  2013.083  38.6  804.68970           4  24.97838  121.53477   62.9\n",
       "61    62  2013.500   5.3  259.66070           6  24.97585  121.54516   63.2\n",
       "258  259  2013.417   0.0  292.99780           6  24.97744  121.54458   63.3\n",
       "361  362  2013.083  41.4  281.20500           8  24.97345  121.54093   63.3\n",
       "413  414  2013.500   6.5   90.45606           9  24.97433  121.54310   63.9\n",
       "389  390  2013.250  40.9  122.36190           8  24.96756  121.54230   67.7\n",
       "379  380  2013.333   0.0  292.99780           6  24.97744  121.54458   69.7\n",
       "16    17  2013.250   0.0  292.99780           6  24.97744  121.54458   70.1\n",
       "105  106  2012.833   0.0  292.99780           6  24.97744  121.54458   71.0\n",
       "166  167  2013.417   0.0  292.99780           6  24.97744  121.54458   73.6\n",
       "312  313  2013.583  35.4  318.52920           9  24.97071  121.54069   78.0\n",
       "220  221  2013.333  37.2  186.51010           9  24.97703  121.54265   78.3\n",
       "270  271  2013.333  10.8  252.58220           1  24.97460  121.53046  117.5"
      ]
     },
     "execution_count": 6,
     "metadata": {},
     "output_type": "execute_result"
    }
   ],
   "source": [
    "re.sort_values('POUA').tail(20)"
   ]
  },
  {
   "cell_type": "markdown",
   "id": "7edd36ad",
   "metadata": {},
   "source": [
    "it is important to identify if this data is the result of a skew or if it is potentially a point that could affect a graph"
   ]
  },
  {
   "cell_type": "code",
   "execution_count": 7,
   "id": "171a4b0d",
   "metadata": {},
   "outputs": [
    {
     "data": {
      "text/plain": [
       "<AxesSubplot:ylabel='Density'>"
      ]
     },
     "execution_count": 7,
     "metadata": {},
     "output_type": "execute_result"
    },
    {
     "data": {
      "image/png": "[encoded data removed]",
      "text/plain": [
       "<Figure size 432x288 with 1 Axes>"
      ]
     },
     "metadata": {
      "needs_background": "light"
     },
     "output_type": "display_data"
    }
   ],
   "source": [
    "re['POUA'].plot.density()"
   ]
  },
  {
   "cell_type": "markdown",
   "id": "f66e36db",
   "metadata": {},
   "source": [
    "while the major outlier is possible, it is important to be aware of its affect of the graph, that if there is a value that changes the model, it may be worthwhile to remove it to have a better representation of the correlation of the data."
   ]
  },
  {
   "cell_type": "code",
   "execution_count": 8,
   "id": "82722d0c",
   "metadata": {},
   "outputs": [
    {
     "data": {
      "text/plain": [
       "<AxesSubplot:>"
      ]
     },
     "execution_count": 8,
     "metadata": {},
     "output_type": "execute_result"
    },
    {
     "data": {
      "image/png": "[encoded data removed]",
      "text/plain": [
       "<Figure size 432x288 with 1 Axes>"
      ]
     },
     "metadata": {
      "needs_background": "light"
     },
     "output_type": "display_data"
    }
   ],
   "source": [
    "re['age'].plot.box()"
   ]
  },
  {
   "cell_type": "markdown",
   "id": "c0f85efd",
   "metadata": {},
   "source": [
    "no outliers. continue"
   ]
  },
  {
   "cell_type": "code",
   "execution_count": 9,
   "id": "f35f508e",
   "metadata": {},
   "outputs": [
    {
     "data": {
      "text/plain": [
       "<AxesSubplot:>"
      ]
     },
     "execution_count": 9,
     "metadata": {},
     "output_type": "execute_result"
    },
    {
     "data": {
      "image/png": "[encoded data removed]",
      "text/plain": [
       "<Figure size 432x288 with 1 Axes>"
      ]
     },
     "metadata": {
      "needs_background": "light"
     },
     "output_type": "display_data"
    }
   ],
   "source": [
    "re['MRT.dist'].plot.box()"
   ]
  },
  {
   "cell_type": "markdown",
   "id": "682a41e9",
   "metadata": {},
   "source": [
    "many outliers, potentially indicate a skewed graph or bimodal distribution, let's plot a graph to analyse the view of this data"
   ]
  },
  {
   "cell_type": "code",
   "execution_count": 10,
   "id": "e0c74ab2",
   "metadata": {},
   "outputs": [
    {
     "data": {
      "text/plain": [
       "<AxesSubplot:ylabel='Density'>"
      ]
     },
     "execution_count": 10,
     "metadata": {},
     "output_type": "execute_result"
    },
    {
     "data": {
      "image/png": "[encoded data removed]",
      "text/plain": [
       "<Figure size 432x288 with 1 Axes>"
      ]
     },
     "metadata": {
      "needs_background": "light"
     },
     "output_type": "display_data"
    }
   ],
   "source": [
    "re['MRT.dist'].plot.density()"
   ]
  },
  {
   "cell_type": "markdown",
   "id": "a6654e43",
   "metadata": {},
   "source": [
    "evident right skew, outliers are therefore understood as valid"
   ]
  },
  {
   "cell_type": "code",
   "execution_count": 11,
   "id": "aed4f8f3",
   "metadata": {},
   "outputs": [
    {
     "data": {
      "text/plain": [
       "<AxesSubplot:>"
      ]
     },
     "execution_count": 11,
     "metadata": {},
     "output_type": "execute_result"
    },
    {
     "data": {
      "image/png": "[encoded data removed]",
      "text/plain": [
       "<Figure size 432x288 with 1 Axes>"
      ]
     },
     "metadata": {
      "needs_background": "light"
     },
     "output_type": "display_data"
    }
   ],
   "source": [
    "re['lat'].plot.box()"
   ]
  },
  {
   "cell_type": "markdown",
   "id": "4295a96e",
   "metadata": {},
   "source": [
    "Given this is latitude, the relative small range of the data explain that outliers are due to latitude being locationally based and no distribution is going to explain the population. There is no intensely distant outlier that would make the data not representative."
   ]
  },
  {
   "cell_type": "code",
   "execution_count": 12,
   "id": "0a11c220",
   "metadata": {},
   "outputs": [
    {
     "data": {
      "text/plain": [
       "<AxesSubplot:>"
      ]
     },
     "execution_count": 12,
     "metadata": {},
     "output_type": "execute_result"
    },
    {
     "data": {
      "image/png": "[encoded data removed]",
      "text/plain": [
       "<Figure size 432x288 with 1 Axes>"
      ]
     },
     "metadata": {
      "needs_background": "light"
     },
     "output_type": "display_data"
    }
   ],
   "source": [
    "re['long'].plot.box()"
   ]
  },
  {
   "cell_type": "markdown",
   "id": "e1e6b223",
   "metadata": {},
   "source": [
    "Longitude, along with latitude, is locational and therefore not illegitimate nor unrepresentative when the data is still within a reasonable range."
   ]
  },
  {
   "cell_type": "code",
   "execution_count": 13,
   "id": "ae84e6ad",
   "metadata": {},
   "outputs": [
    {
     "data": {
      "text/plain": [
       "<AxesSubplot:>"
      ]
     },
     "execution_count": 13,
     "metadata": {},
     "output_type": "execute_result"
    },
    {
     "data": {
      "image/png": "[encoded data removed]",
      "text/plain": [
       "<Figure size 432x288 with 1 Axes>"
      ]
     },
     "metadata": {
      "needs_background": "light"
     },
     "output_type": "display_data"
    }
   ],
   "source": [
    "re['conv.store'].plot.box()"
   ]
  },
  {
   "cell_type": "markdown",
   "id": "0ac65aaa",
   "metadata": {},
   "source": [
    "no outliers. continue"
   ]
  },
  {
   "cell_type": "markdown",
   "id": "bf08a2f0",
   "metadata": {},
   "source": [
    "## Center and scale data as needed + Transform"
   ]
  },
  {
   "cell_type": "code",
   "execution_count": 14,
   "id": "fa8917a1",
   "metadata": {},
   "outputs": [
    {
     "data": {
      "text/plain": [
       "<AxesSubplot:ylabel='Density'>"
      ]
     },
     "execution_count": 14,
     "metadata": {},
     "output_type": "execute_result"
    },
    {
     "data": {
      "image/png": "[encoded data removed]",
      "text/plain": [
       "<Figure size 432x288 with 1 Axes>"
      ]
     },
     "metadata": {
      "needs_background": "light"
     },
     "output_type": "display_data"
    }
   ],
   "source": [
    "re['age'].plot.density()"
   ]
  },
  {
   "cell_type": "markdown",
   "id": "89ee3188",
   "metadata": {},
   "source": [
    "This data is appropriate and does not have any significantly large values, it will therefore be kept the same\n",
    "It also is appropriately close to zero, so it will not be scaled"
   ]
  },
  {
   "cell_type": "code",
   "execution_count": 15,
   "id": "3f0b71c5",
   "metadata": {},
   "outputs": [
    {
     "data": {
      "text/plain": [
       "<AxesSubplot:ylabel='Frequency'>"
      ]
     },
     "execution_count": 15,
     "metadata": {},
     "output_type": "execute_result"
    },
    {
     "data": {
      "image/png": "[encoded data removed]",
      "text/plain": [
       "<Figure size 432x288 with 1 Axes>"
      ]
     },
     "metadata": {
      "needs_background": "light"
     },
     "output_type": "display_data"
    }
   ],
   "source": [
    "re['conv.store'].plot.hist(bins = 50)"
   ]
  },
  {
   "cell_type": "markdown",
   "id": "756d18fb",
   "metadata": {},
   "source": [
    "This variable lacks any significantly large values that might affect the data, it remains untouched.  Since it also represents distance, it could be scaled, but it is close to zero and therefore scaling will not affect it much"
   ]
  },
  {
   "cell_type": "code",
   "execution_count": 16,
   "id": "7e45d3d6",
   "metadata": {},
   "outputs": [
    {
     "data": {
      "text/plain": [
       "<AxesSubplot:ylabel='Density'>"
      ]
     },
     "execution_count": 16,
     "metadata": {},
     "output_type": "execute_result"
    },
    {
     "data": {
      "image/png": "[encoded data removed]",
      "text/plain": [
       "<Figure size 432x288 with 1 Axes>"
      ]
     },
     "metadata": {
      "needs_background": "light"
     },
     "output_type": "display_data"
    }
   ],
   "source": [
    "re['MRT.dist'].plot.density()"
   ]
  },
  {
   "cell_type": "markdown",
   "id": "12beebc1",
   "metadata": {},
   "source": [
    "the data measures over distance and therefore can be scaled for clarity"
   ]
  },
  {
   "cell_type": "code",
   "execution_count": 17,
   "id": "d14a8455",
   "metadata": {},
   "outputs": [
    {
     "data": {
      "text/plain": [
       "<AxesSubplot:ylabel='Density'>"
      ]
     },
     "execution_count": 17,
     "metadata": {},
     "output_type": "execute_result"
    },
    {
     "data": {
      "image/png": "[encoded data removed]",
      "text/plain": [
       "<Figure size 432x288 with 1 Axes>"
      ]
     },
     "metadata": {
      "needs_background": "light"
     },
     "output_type": "display_data"
    }
   ],
   "source": [
    "from sklearn import preprocessing as prep\n",
    "re['MRT.scaled'] = prep.scale(re['MRT.dist'])\n",
    "re['MRT.scaled'].plot.density()"
   ]
  },
  {
   "cell_type": "markdown",
   "id": "41992c10",
   "metadata": {},
   "source": [
    "the data is skewed and therefore can be assisted by realignment, lets apply a sqrt transformation"
   ]
  },
  {
   "cell_type": "code",
   "execution_count": 18,
   "id": "ebc3f1eb",
   "metadata": {},
   "outputs": [
    {
     "data": {
      "text/plain": [
       "<AxesSubplot:ylabel='Density'>"
      ]
     },
     "execution_count": 18,
     "metadata": {},
     "output_type": "execute_result"
    },
    {
     "data": {
      "image/png": "[encoded data removed]",
      "text/plain": [
       "<Figure size 432x288 with 1 Axes>"
      ]
     },
     "metadata": {
      "needs_background": "light"
     },
     "output_type": "display_data"
    }
   ],
   "source": [
    "re['MRT.log'] = (re[\"MRT.scaled\"] + 1).apply(np.log)\n",
    "re['MRT.log'].plot.density()"
   ]
  },
  {
   "cell_type": "markdown",
   "id": "73a7c3ef",
   "metadata": {},
   "source": [
    "this data is much more centered and less likely to cause a disproportionate outcome"
   ]
  },
  {
   "cell_type": "code",
   "execution_count": 19,
   "id": "5ff36813",
   "metadata": {},
   "outputs": [
    {
     "data": {
      "text/plain": [
       "<AxesSubplot:ylabel='Density'>"
      ]
     },
     "execution_count": 19,
     "metadata": {},
     "output_type": "execute_result"
    },
    {
     "data": {
      "image/png": "[encoded data removed]",
      "text/plain": [
       "<Figure size 432x288 with 1 Axes>"
      ]
     },
     "metadata": {
      "needs_background": "light"
     },
     "output_type": "display_data"
    }
   ],
   "source": [
    "re['POUA'].plot.density()"
   ]
  },
  {
   "cell_type": "markdown",
   "id": "f6f4629f",
   "metadata": {},
   "source": [
    "this data is relatively normal, and the y-axis for which we shall be evaluating, it remains the same"
   ]
  },
  {
   "cell_type": "markdown",
   "id": "21bd4871",
   "metadata": {},
   "source": [
    "Both longitude and latidude are measures of location and can therefore be scaled, but will not be transformed because it is not reasonable for the distribution to be normal"
   ]
  },
  {
   "cell_type": "code",
   "execution_count": 20,
   "id": "f2f8c61d",
   "metadata": {},
   "outputs": [
    {
     "data": {
      "text/plain": [
       "<AxesSubplot:ylabel='Frequency'>"
      ]
     },
     "execution_count": 20,
     "metadata": {},
     "output_type": "execute_result"
    },
    {
     "data": {
      "image/png": "[encoded data removed]",
      "text/plain": [
       "<Figure size 432x288 with 1 Axes>"
      ]
     },
     "metadata": {
      "needs_background": "light"
     },
     "output_type": "display_data"
    }
   ],
   "source": [
    "re['long'].plot.hist()"
   ]
  },
  {
   "cell_type": "code",
   "execution_count": 21,
   "id": "2823333c",
   "metadata": {},
   "outputs": [
    {
     "data": {
      "text/plain": [
       "<AxesSubplot:ylabel='Frequency'>"
      ]
     },
     "execution_count": 21,
     "metadata": {},
     "output_type": "execute_result"
    },
    {
     "data": {
      "image/png": "[encoded data removed]",
      "text/plain": [
       "<Figure size 432x288 with 1 Axes>"
      ]
     },
     "metadata": {
      "needs_background": "light"
     },
     "output_type": "display_data"
    }
   ],
   "source": [
    "re['long.scaled'] = prep.scale(re['long'])\n",
    "re['long.scaled'].plot.hist()"
   ]
  },
  {
   "cell_type": "code",
   "execution_count": 22,
   "id": "a9262f72",
   "metadata": {},
   "outputs": [
    {
     "data": {
      "text/plain": [
       "<AxesSubplot:ylabel='Frequency'>"
      ]
     },
     "execution_count": 22,
     "metadata": {},
     "output_type": "execute_result"
    },
    {
     "data": {
      "image/png": "[encoded data removed]",
      "text/plain": [
       "<Figure size 432x288 with 1 Axes>"
      ]
     },
     "metadata": {
      "needs_background": "light"
     },
     "output_type": "display_data"
    }
   ],
   "source": [
    "re['lat.scaled'] = prep.scale(re['lat'])\n",
    "re['lat.scaled'].plot.hist()"
   ]
  },
  {
   "cell_type": "markdown",
   "id": "94fbc3ec",
   "metadata": {},
   "source": [
    "## Discrete Variables"
   ]
  },
  {
   "cell_type": "code",
   "execution_count": 23,
   "id": "81e5722d",
   "metadata": {},
   "outputs": [
    {
     "data": {
      "text/plain": [
       "<AxesSubplot:ylabel='Density'>"
      ]
     },
     "execution_count": 23,
     "metadata": {},
     "output_type": "execute_result"
    },
    {
     "data": {
      "image/png": "[encoded data removed]",
      "text/plain": [
       "<Figure size 432x288 with 1 Axes>"
      ]
     },
     "metadata": {
      "needs_background": "light"
     },
     "output_type": "display_data"
    }
   ],
   "source": [
    "re['t.date'].plot.density()"
   ]
  },
  {
   "cell_type": "code",
   "execution_count": 24,
   "id": "2839d322",
   "metadata": {},
   "outputs": [],
   "source": [
    "#re['t.date'].head(50)"
   ]
  },
  {
   "cell_type": "markdown",
   "id": "24a157e4",
   "metadata": {},
   "source": [
    "It actually looks like the date data types are appropriately converted to float numbers, so the only thing to do is scale them"
   ]
  },
  {
   "cell_type": "code",
   "execution_count": 25,
   "id": "78abad7d",
   "metadata": {},
   "outputs": [
    {
     "data": {
      "text/plain": [
       "<AxesSubplot:ylabel='Density'>"
      ]
     },
     "execution_count": 25,
     "metadata": {},
     "output_type": "execute_result"
    },
    {
     "data": {
      "image/png": "[encoded data removed]",
      "text/plain": [
       "<Figure size 432x288 with 1 Axes>"
      ]
     },
     "metadata": {
      "needs_background": "light"
     },
     "output_type": "display_data"
    }
   ],
   "source": [
    "re['t.d.scale'] = prep.scale(re['t.date'])\n",
    "re['t.d.scale'].plot.density()"
   ]
  },
  {
   "cell_type": "markdown",
   "id": "ee5b5377",
   "metadata": {},
   "source": [
    "this scaled plot also appears fairly normal and will not therefore be transformed.  "
   ]
  },
  {
   "cell_type": "markdown",
   "id": "c579c74c",
   "metadata": {},
   "source": [
    "## Create and Train Linear Regression Model"
   ]
  },
  {
   "cell_type": "code",
   "execution_count": 26,
   "id": "fb42f3f3",
   "metadata": {},
   "outputs": [],
   "source": [
    "X = re[['t.d.scale', 'age', 'MRT.log', 'conv.store', 'lat.scaled', 'long.scaled']]\n",
    "y = re[['POUA']]"
   ]
  },
  {
   "cell_type": "code",
   "execution_count": 27,
   "id": "954e0549",
   "metadata": {},
   "outputs": [],
   "source": [
    "from sklearn.linear_model import LinearRegression\n",
    "from sklearn.model_selection import train_test_split\n",
    "from sklearn.metrics import mean_squared_error, r2_score\n",
    "from sklearn.preprocessing import PolynomialFeatures\n",
    "\n",
    "# Split for Train Test\n",
    "X_train, X_test, y_train, y_test = train_test_split(X, y, test_size=0.20, random_state=1)"
   ]
  },
  {
   "cell_type": "markdown",
   "id": "fbc62c6f",
   "metadata": {},
   "source": [
    "## Make a Model"
   ]
  },
  {
   "cell_type": "code",
   "execution_count": 28,
   "id": "6626d884",
   "metadata": {},
   "outputs": [
    {
     "data": {
      "text/plain": [
       "LinearRegression()"
      ]
     },
     "execution_count": 28,
     "metadata": {},
     "output_type": "execute_result"
    }
   ],
   "source": [
    "model = LinearRegression()\n",
    "model.fit(X_train, y_train)"
   ]
  },
  {
   "cell_type": "markdown",
   "id": "31cbb5a3",
   "metadata": {},
   "source": [
    "## Evaluate the Model"
   ]
  },
  {
   "cell_type": "code",
   "execution_count": 29,
   "id": "001e3f8e",
   "metadata": {},
   "outputs": [
    {
     "name": "stdout",
     "output_type": "stream",
     "text": [
      "R-sqare:  0.73185056742336\n",
      "RMSE:  6.379760498589893\n",
      "Adjusted R-square:  0.6463387611637756\n"
     ]
    }
   ],
   "source": [
    "# Format\n",
    "r = model.score(X_test, y_test)\n",
    "yPredict = model.predict(X_test)\n",
    "rmse = np.sqrt(mean_squared_error(yPredict, y_test))\n",
    "adjR = 1 - (1-model.score(X, y))*(len(y)-1)/(len(y)-X.shape[1]-1)\n",
    "print(\"R-sqare: \", r)\n",
    "print(\"RMSE: \", rmse)\n",
    "print(\"Adjusted R-square: \", adjR)"
   ]
  },
  {
   "cell_type": "markdown",
   "id": "6161b6b5",
   "metadata": {},
   "source": [
    "The R-Square value indicates that the Price of Unit Area is explained by our variables with a 73% accuracy.\n",
    "\n",
    "The RMSE Score tells us that the data points tested against the model had a large standard deviation, or that they were largely spread out. \n",
    "\n",
    "The Adjusted R-Squared value, being lower than the R-Squared value, lets us know that some variables were not significant predictiors of the Price of Unit Area."
   ]
  },
  {
   "cell_type": "markdown",
   "id": "1b1fbfd5",
   "metadata": {},
   "source": [
    "## Play with Predictors"
   ]
  },
  {
   "cell_type": "code",
   "execution_count": 30,
   "id": "4b0737f9",
   "metadata": {},
   "outputs": [
    {
     "name": "stdout",
     "output_type": "stream",
     "text": [
      "R-sqare:  -0.0049556563765829065\n",
      "RMSE:  12.350637742652658\n",
      "Adjusted R-square:  0.04532358091900046\n"
     ]
    }
   ],
   "source": [
    "X = re[['age','t.d.scale']]\n",
    "y = re[['POUA']]\n",
    "X_train, X_test, y_train, y_test = train_test_split(X, y, test_size=0.20, random_state=1)\n",
    "model = LinearRegression()\n",
    "model.fit(X_train, y_train)\n",
    "\n",
    "r = model.score(X_test, y_test)\n",
    "yPredict = model.predict(X_test)\n",
    "rmse = np.sqrt(mean_squared_error(yPredict, y_test))\n",
    "adjR = 1 - (1-model.score(X, y))*(len(y)-1)/(len(y)-X.shape[1]-1)\n",
    "print(\"R-sqare: \", r)\n",
    "print(\"RMSE: \", rmse)\n",
    "print(\"Adjusted R-square: \", adjR)"
   ]
  },
  {
   "cell_type": "code",
   "execution_count": 31,
   "id": "1f230a7f",
   "metadata": {},
   "outputs": [
    {
     "name": "stdout",
     "output_type": "stream",
     "text": [
      "R-sqare:  0.6514233229984445\n",
      "RMSE:  7.2738626612413375\n",
      "Adjusted R-square:  0.5791161821895046\n"
     ]
    }
   ],
   "source": [
    "X = re[['MRT.log', 'conv.store','t.d.scale']]\n",
    "y = re[['POUA']]\n",
    "X_train, X_test, y_train, y_test = train_test_split(X, y, test_size=0.20, random_state=1)\n",
    "model = LinearRegression()\n",
    "model.fit(X_train, y_train)\n",
    "\n",
    "r = model.score(X_test, y_test)\n",
    "yPredict = model.predict(X_test)\n",
    "rmse = np.sqrt(mean_squared_error(yPredict, y_test))\n",
    "adjR = 1 - (1-model.score(X, y))*(len(y)-1)/(len(y)-X.shape[1]-1)\n",
    "print(\"R-sqare: \", r)\n",
    "print(\"RMSE: \", rmse)\n",
    "print(\"Adjusted R-square: \", adjR)"
   ]
  },
  {
   "cell_type": "code",
   "execution_count": 32,
   "id": "b1e2dcd2",
   "metadata": {},
   "outputs": [
    {
     "name": "stdout",
     "output_type": "stream",
     "text": [
      "R-sqare:  0.5454979000269311\n",
      "RMSE:  8.305846127480299\n",
      "Adjusted R-square:  0.40821679534538824\n"
     ]
    }
   ],
   "source": [
    "X = re[['t.d.scale', 'lat.scaled', 'long.scaled']]\n",
    "y = re[['POUA']]\n",
    "X_train, X_test, y_train, y_test = train_test_split(X, y, test_size=0.20, random_state=1)\n",
    "model = LinearRegression()\n",
    "model.fit(X_train, y_train)\n",
    "\n",
    "r = model.score(X_test, y_test)\n",
    "yPredict = model.predict(X_test)\n",
    "rmse = np.sqrt(mean_squared_error(yPredict, y_test))\n",
    "adjR = 1 - (1-model.score(X, y))*(len(y)-1)/(len(y)-X.shape[1]-1)\n",
    "print(\"R-sqare: \", r)\n",
    "print(\"RMSE: \", rmse)\n",
    "print(\"Adjusted R-square: \", adjR)"
   ]
  },
  {
   "cell_type": "markdown",
   "id": "702e092e",
   "metadata": {},
   "source": [
    "#### My 'Best' Model was the original model with every variable.  For every evaluative value (R2, RMSE, AdjR2) this model outpreformed the other test data.  While it is the best, its ability to predict the dependent data was still quite lacking, best represented by the RMSE value.  The data deviated over 6 standard deviations away from the model, meaning that any prediction made was quite intensely different from the actual data tested against the model.  The adjusted R2 data reflects this, while the model isn't a completely different reflection of the data, it is not a very accurate predictor of of POUA.   "
   ]
  },
  {
   "cell_type": "code",
   "execution_count": null,
   "id": "52371293",
   "metadata": {},
   "outputs": [],
   "source": []
  }
 ],
 "metadata": {
  "kernelspec": {
   "display_name": "Python 3 (ipykernel)",
   "language": "python",
   "name": "python3"
  },
  "language_info": {
   "codemirror_mode": {
    "name": "ipython",
    "version": 3
   },
   "file_extension": ".py",
   "mimetype": "text/x-python",
   "name": "python",
   "nbconvert_exporter": "python",
   "pygments_lexer": "ipython3",
   "version": "3.9.12"
  }
 },
 "nbformat": 4,
 "nbformat_minor": 5
}
