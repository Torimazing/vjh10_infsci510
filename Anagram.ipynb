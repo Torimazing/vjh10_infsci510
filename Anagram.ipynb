{
 "cells": [
  {
   "cell_type": "markdown",
   "id": "926b199b",
   "metadata": {},
   "source": [
    "Anagrams\n",
    "    same letters\n",
    "for each word in word list\n",
    "    sort word\n",
    "    compare with sorted user input"
   ]
  },
  {
   "cell_type": "code",
   "execution_count": 1,
   "id": "5fa8da43",
   "metadata": {},
   "outputs": [
    {
     "name": "stdout",
     "output_type": "stream",
     "text": [
      "Please enter a word: Dict\n"
     ]
    }
   ],
   "source": [
    "user_input = input(\"Please enter a word: \")"
   ]
  },
  {
   "cell_type": "code",
   "execution_count": 4,
   "id": "ac11b333",
   "metadata": {},
   "outputs": [],
   "source": [
    "def clean(text):\n",
    "    text = text.lower().strip()\n",
    "    clean = ''\n",
    "    for letter in text:\n",
    "        if ord(letter) in range(ord('a'), ord('z')):\n",
    "            clean += letter\n",
    "    return clean"
   ]
  },
  {
   "cell_type": "code",
   "execution_count": 5,
   "id": "f907d2a9",
   "metadata": {},
   "outputs": [
    {
     "name": "stdout",
     "output_type": "stream",
     "text": [
      "dict\n"
     ]
    }
   ],
   "source": [
    "cleaned = clean(user_input)\n",
    "print(cleaned)"
   ]
  },
  {
   "cell_type": "code",
   "execution_count": 7,
   "id": "f67ab519",
   "metadata": {},
   "outputs": [],
   "source": [
    "def find_anagrams(phrase):\n",
    "    data = open('words.txt')\n",
    "    data.seek(0)\n",
    "    word_list = data.readlines()\n",
    "    for word in word_list:\n",
    "        if(sorted(clean(phrase)) == sorted(clean(word))):\n",
    "            print(word)"
   ]
  },
  {
   "cell_type": "code",
   "execution_count": 10,
   "id": "ac289a39",
   "metadata": {
    "scrolled": true
   },
   "outputs": [
    {
     "name": "stdout",
     "output_type": "stream",
     "text": [
      "evil\n",
      "\n",
      "levi\n",
      "\n",
      "live\n",
      "\n",
      "veil\n",
      "\n",
      "vile\n",
      "\n",
      "vlei\n",
      "\n"
     ]
    }
   ],
   "source": [
    "find_anagrams('live')"
   ]
  },
  {
   "cell_type": "markdown",
   "id": "d7621055",
   "metadata": {},
   "source": [
    "Wordscapes\n",
    "present player with a word\n",
    "player finds as many subwords as possible\n",
    "player enters subword\n",
    "verify that letters exist in word\n",
    "verify that letters are only used once\n"
   ]
  },
  {
   "cell_type": "code",
   "execution_count": 13,
   "id": "48a9fc87",
   "metadata": {},
   "outputs": [],
   "source": [
    "f = open('words.txt')\n",
    "data.seek(0)\n",
    "wordlist = f.readlines()"
   ]
  },
  {
   "cell_type": "code",
   "execution_count": 14,
   "id": "b7bd8d08",
   "metadata": {},
   "outputs": [],
   "source": [
    "def check_letters(source_word, user_input):\n",
    "    temp = sorted(source_word)\n",
    "    for letter in user_input:\n",
    "        if letter in temp:\n",
    "            temp.remove(letter)\n",
    "        else:\n",
    "            return False\n",
    "    return True"
   ]
  },
  {
   "cell_type": "code",
   "execution_count": 15,
   "id": "cafc904d",
   "metadata": {},
   "outputs": [],
   "source": [
    "def check_if_word(user_input):\n",
    "    for word in wordlist:\n",
    "        if word.lower().strip() == user_input.lower().strip:\n",
    "            return True\n",
    "    return False\n",
    "        "
   ]
  },
  {
   "cell_type": "code",
   "execution_count": null,
   "id": "d72e5b86",
   "metadata": {},
   "outputs": [],
   "source": []
  }
 ],
 "metadata": {
  "kernelspec": {
   "display_name": "Python 3 (ipykernel)",
   "language": "python",
   "name": "python3"
  },
  "language_info": {
   "codemirror_mode": {
    "name": "ipython",
    "version": 3
   },
   "file_extension": ".py",
   "mimetype": "text/x-python",
   "name": "python",
   "nbconvert_exporter": "python",
   "pygments_lexer": "ipython3",
   "version": "3.9.12"
  }
 },
 "nbformat": 4,
 "nbformat_minor": 5
}
