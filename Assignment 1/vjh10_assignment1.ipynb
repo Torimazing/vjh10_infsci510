{
 "cells": [
  {
   "cell_type": "code",
   "execution_count": 12,
   "id": "37f8c69e",
   "metadata": {},
   "outputs": [
    {
     "data": {
      "text/html": [
       "<div>\n",
       "<style scoped>\n",
       "    .dataframe tbody tr th:only-of-type {\n",
       "        vertical-align: middle;\n",
       "    }\n",
       "\n",
       "    .dataframe tbody tr th {\n",
       "        vertical-align: top;\n",
       "    }\n",
       "\n",
       "    .dataframe thead th {\n",
       "        text-align: right;\n",
       "    }\n",
       "</style>\n",
       "<table border=\"1\" class=\"dataframe\">\n",
       "  <thead>\n",
       "    <tr style=\"text-align: right;\">\n",
       "      <th></th>\n",
       "      <th>Year</th>\n",
       "      <th>Population</th>\n",
       "    </tr>\n",
       "  </thead>\n",
       "  <tbody>\n",
       "    <tr>\n",
       "      <th>count</th>\n",
       "      <td>816.000000</td>\n",
       "      <td>8.160000e+02</td>\n",
       "    </tr>\n",
       "    <tr>\n",
       "      <th>mean</th>\n",
       "      <td>2006.500000</td>\n",
       "      <td>5.871569e+06</td>\n",
       "    </tr>\n",
       "    <tr>\n",
       "      <th>std</th>\n",
       "      <td>4.612599</td>\n",
       "      <td>6.561914e+06</td>\n",
       "    </tr>\n",
       "    <tr>\n",
       "      <th>min</th>\n",
       "      <td>1999.000000</td>\n",
       "      <td>4.917800e+05</td>\n",
       "    </tr>\n",
       "    <tr>\n",
       "      <th>25%</th>\n",
       "      <td>2002.750000</td>\n",
       "      <td>1.580634e+06</td>\n",
       "    </tr>\n",
       "    <tr>\n",
       "      <th>50%</th>\n",
       "      <td>2006.500000</td>\n",
       "      <td>4.112482e+06</td>\n",
       "    </tr>\n",
       "    <tr>\n",
       "      <th>75%</th>\n",
       "      <td>2010.250000</td>\n",
       "      <td>6.589866e+06</td>\n",
       "    </tr>\n",
       "    <tr>\n",
       "      <th>max</th>\n",
       "      <td>2014.000000</td>\n",
       "      <td>3.880250e+07</td>\n",
       "    </tr>\n",
       "  </tbody>\n",
       "</table>\n",
       "</div>"
      ],
      "text/plain": [
       "              Year    Population\n",
       "count   816.000000  8.160000e+02\n",
       "mean   2006.500000  5.871569e+06\n",
       "std       4.612599  6.561914e+06\n",
       "min    1999.000000  4.917800e+05\n",
       "25%    2002.750000  1.580634e+06\n",
       "50%    2006.500000  4.112482e+06\n",
       "75%    2010.250000  6.589866e+06\n",
       "max    2014.000000  3.880250e+07"
      ]
     },
     "execution_count": 12,
     "metadata": {},
     "output_type": "execute_result"
    }
   ],
   "source": [
    "import pandas as pd\n",
    "CoD = pd.read_csv(\"Multiple Cause of Death, 1999-2014.csv\")\n",
    "\n",
    "#Task One\n",
    "CoD.rename(columns={\"Crude Rate\": \"Crude_Rate\", \"Crude Rate Lower 95% Confidence Interval\":\"Crude_Rate_Lower_95%_Confidence_Interval\", \"Crude Rate Upper 95% Confidence Interval\": \"Crude_Rate_Upper_95%_Confidence_Interval\", }, errors=\"raise\")\n",
    "\n",
    "#Task Two - (At first, the only two columns recognized as float are Year and Population)\n"
   ]
  },
  {
   "cell_type": "code",
   "execution_count": null,
   "id": "e73c975f",
   "metadata": {},
   "outputs": [],
   "source": []
  }
 ],
 "metadata": {
  "kernelspec": {
   "display_name": "Python 3 (ipykernel)",
   "language": "python",
   "name": "python3"
  },
  "language_info": {
   "codemirror_mode": {
    "name": "ipython",
    "version": 3
   },
   "file_extension": ".py",
   "mimetype": "text/x-python",
   "name": "python",
   "nbconvert_exporter": "python",
   "pygments_lexer": "ipython3",
   "version": "3.9.12"
  }
 },
 "nbformat": 4,
 "nbformat_minor": 5
}
