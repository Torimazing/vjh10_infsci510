{
 "cells": [
  {
   "cell_type": "markdown",
   "id": "9e16a0c3",
   "metadata": {},
   "source": [
    "A palindrome is a word or phrase that is spelled the same forward or backwards.\n",
    "\n",
    "Option 1: Compare letters from back and front until we meet in the middle\n",
    "Option 2: Flip the word and compare strings\n",
    "* Step 1: ask for input\n",
    "* Step 2: lowercase\n",
    "* Step 3: remove non alpha characters\n",
    "* Step 4: Flip the word\n",
    "* Step 5: Compare\n",
    "\n"
   ]
  },
  {
   "cell_type": "code",
   "execution_count": 2,
   "id": "bcdb4e75",
   "metadata": {},
   "outputs": [
    {
     "name": "stdout",
     "output_type": "stream",
     "text": [
      "Please enter a word: race car\n",
      "You word is: race car\n",
      "race car is a palindrome\n"
     ]
    }
   ],
   "source": [
    "global word\n",
    "iword = input(\"Please enter a word: \")\n",
    "print(\"You word is: \"+ iword)\n",
    "lword = iword.lower()\n",
    "\n",
    "word = ''\n",
    "for letter in lword:\n",
    "    if ord(letter) in range(ord('a'), ord('z')+1):\n",
    "        word += letter\n",
    "\n",
    "rword = word[::-1]\n",
    "\n",
    "if rword == word:\n",
    "    print(iword + \" is a palindrome\")\n",
    "else:\n",
    "    print(iword+ \" is not a palindrome\")"
   ]
  },
  {
   "cell_type": "code",
   "execution_count": 6,
   "id": "bb239ce1",
   "metadata": {},
   "outputs": [],
   "source": [
    "def is_palindrome(phrase, clean=True):\n",
    "    phrase = phrase.lower()\n",
    "    cphrase = ''\n",
    "    if clean:\n",
    "        for letter in phrase:\n",
    "            if ord(letter) in range(ord('a'), ord('z')+1):\n",
    "                cphrase += letter\n",
    "    else:\n",
    "        cphrase = phrase\n",
    "    \n",
    "    flipped = cphrase[::-1]\n",
    "    \n",
    "    if flipped == cphrase:\n",
    "        return True\n",
    "    else:\n",
    "        return False"
   ]
  },
  {
   "cell_type": "code",
   "execution_count": 8,
   "id": "a1356e29",
   "metadata": {},
   "outputs": [
    {
     "data": {
      "text/plain": [
       "False"
      ]
     },
     "execution_count": 8,
     "metadata": {},
     "output_type": "execute_result"
    }
   ],
   "source": [
    "is_palindrome(\"eva, can i see bees in a cave\", False)"
   ]
  },
  {
   "cell_type": "code",
   "execution_count": null,
   "id": "a8ffb66b",
   "metadata": {},
   "outputs": [],
   "source": []
  }
 ],
 "metadata": {
  "kernelspec": {
   "display_name": "Python 3 (ipykernel)",
   "language": "python",
   "name": "python3"
  },
  "language_info": {
   "codemirror_mode": {
    "name": "ipython",
    "version": 3
   },
   "file_extension": ".py",
   "mimetype": "text/x-python",
   "name": "python",
   "nbconvert_exporter": "python",
   "pygments_lexer": "ipython3",
   "version": "3.9.12"
  }
 },
 "nbformat": 4,
 "nbformat_minor": 5
}
